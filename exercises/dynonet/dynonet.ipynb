{
 "cells": [
  {
   "cell_type": "markdown",
   "metadata": {},
   "source": [
    "# dynoNet: Exercise\n",
    "## Application to Ground Vibration Test of an F-16 aircraft. Description of the benchmark: https://www.nonlinearbenchmark.org/benchmarks/f-16-gvt\n",
    "\n",
    "### Course on Deep Learning for System Identification\n",
    "### Authors: Dario Piga, Marco Forgione\n",
    "### Milano, July 3rd, 2035"
   ]
  },
  {
   "cell_type": "markdown",
   "metadata": {},
   "source": [
    "Repeat the same exercise on the identification of the F16 aircraft.  **Use a dynoNet** instead of Feedforward and RNN networks.\n",
    "\n",
    "Hyper-parameter to select:\n",
    "* structure of the network \n",
    "* input and output lags of the LTI blocks\n",
    "* structure of the Static Nonlinearities\n",
    "* sub-sequence length for training and batch size\n",
    "* number of initial samples skipped in the creation of the loss \n",
    "* optimizer's hyper-parameters (learning rate, maximum number of epochs)"
   ]
  },
  {
   "cell_type": "code",
   "execution_count": 1,
   "metadata": {},
   "outputs": [],
   "source": [
    "import matplotlib.pyplot as plt\n",
    "import os\n",
    "import numpy as np\n",
    "import dynonet\n",
    "from dynonet.lti import MimoLinearDynamicalOperator\n",
    "from dynonet.static import MimoStaticNonLinearity\n",
    "from sklearn.preprocessing import StandardScaler\n",
    "import pandas as pd\n",
    "import torch \n",
    "import torch.nn as nn \n",
    "import torch.nn.functional as F\n",
    "from torchsummary import summary\n",
    "import torch.optim as optim\n",
    "from sklearn.metrics import r2_score\n",
    "from torch.utils.data import Dataset, DataLoader"
   ]
  },
  {
   "cell_type": "code",
   "execution_count": 2,
   "metadata": {},
   "outputs": [],
   "source": [
    "# %matplotlib widget "
   ]
  },
  {
   "cell_type": "markdown",
   "metadata": {},
   "source": [
    "Since dynoNet receives as an input the input sequence of the system, the same *DataSet* class *F16DS_seq* used for training RNN can be also used in this exercise. Each element of the *F16DS_seq* Dataset is a pair with:\n",
    "- input sub-sequences of a given length (since we are considering two inputs, we have 2 input sub-sequences)\n",
    "- corresponding output sequences (if you consider all the three outputs, you will have 3 outputs)\n",
    "\n",
    "For your convenience, you can run the cell below to upload the dataset and instantiate the *F16DS_seq* class."
   ]
  },
  {
   "cell_type": "code",
   "execution_count": 3,
   "metadata": {},
   "outputs": [],
   "source": [
    "folder = os.path.join(\"..\", \"..\", \"data\", \"F16\")\n",
    "filename_train = os.path.join(folder, \"F16Data_SineSw_Level3.csv\")\n",
    "filename_test = os.path.join(folder, \"F16Data_SineSw_Level4_Validation.csv\")"
   ]
  },
  {
   "cell_type": "code",
   "execution_count": 4,
   "metadata": {},
   "outputs": [],
   "source": [
    "df_train = pd.read_csv(filename_train)\n",
    "df_test = pd.read_csv(filename_test)"
   ]
  },
  {
   "cell_type": "code",
   "execution_count": 5,
   "metadata": {},
   "outputs": [],
   "source": [
    "# data normalization\n",
    "ds_mean = df_train.mean()\n",
    "ds_std = df_train.std()\n",
    "df_train = df_train - ds_mean / ds_std\n",
    "df_test = df_test - ds_mean / ds_std"
   ]
  },
  {
   "cell_type": "code",
   "execution_count": 6,
   "metadata": {},
   "outputs": [],
   "source": [
    "output_vars = [\"Acceleration1\"]\n",
    "input_vars = [\"Force\", \"Voltage\"]\n",
    "seq_len = 10_000"
   ]
  },
  {
   "cell_type": "code",
   "execution_count": 7,
   "metadata": {},
   "outputs": [],
   "source": [
    "from torch.utils.data import Dataset\n",
    "\n",
    "class SequenceDataset(Dataset):\n",
    "    r\"\"\"A dataset returning sub-sequences extracted from longer sequences.\n",
    "        For simplicity, this version does not support overlapping subsequences.\n",
    "    Args:\n",
    "        *tensors (Tensor): tensors that have the same size on the first dimension.\n",
    "    Examples:\n",
    "        >>> u = torch.randn(1000, 2) # 2 inputs\n",
    "        >>> y = torch.randn(1000, 3) # 3 outputs\n",
    "        >>> train_dataset = SequenceDataset(u, y, seq_len=100)\n",
    "    \"\"\"\n",
    "\n",
    "    def __init__(self, *tensors, seq_len):\n",
    "        self.tensors = tensors\n",
    "\n",
    "        self.seq_len = seq_len\n",
    "        assert all(tensor.shape[0] == self.tensors[0].shape[0] for tensor in self.tensors), \"All tensors must have the same length\"\n",
    "        self.total_len = self.tensors[0].shape[0]\n",
    "\n",
    "    def __len__(self):\n",
    "        return int(self.total_len // self.seq_len)\n",
    "\n",
    "    def __getitem__(self, idx):\n",
    "        start = idx * self.seq_len\n",
    "        stop = start + self.seq_len\n",
    "        return [tensor[start:stop] for tensor in self.tensors]"
   ]
  },
  {
   "cell_type": "code",
   "execution_count": 8,
   "metadata": {},
   "outputs": [
    {
     "data": {
      "text/plain": [
       "Ellipsis"
      ]
     },
     "execution_count": 8,
     "metadata": {},
     "output_type": "execute_result"
    }
   ],
   "source": [
    "# Datasets\n",
    "train_ds = SequenceDataset(\n",
    "    torch.Tensor(df_train[input_vars].values).type(torch.Tensor),\n",
    "    torch.Tensor(df_train[output_vars].values).type(torch.Tensor),\n",
    "    seq_len=seq_len\n",
    ")\n",
    "\n",
    "... # continue with the test dataset"
   ]
  },
  {
   "cell_type": "code",
   "execution_count": 9,
   "metadata": {},
   "outputs": [
    {
     "data": {
      "text/plain": [
       "10"
      ]
     },
     "execution_count": 9,
     "metadata": {},
     "output_type": "execute_result"
    }
   ],
   "source": [
    "len(train_ds)"
   ]
  }
 ],
 "metadata": {
  "kernelspec": {
   "display_name": "eeci",
   "language": "python",
   "name": "python3"
  },
  "language_info": {
   "codemirror_mode": {
    "name": "ipython",
    "version": 3
   },
   "file_extension": ".py",
   "mimetype": "text/x-python",
   "name": "python",
   "nbconvert_exporter": "python",
   "pygments_lexer": "ipython3",
   "version": "3.12.9"
  }
 },
 "nbformat": 4,
 "nbformat_minor": 4
}
