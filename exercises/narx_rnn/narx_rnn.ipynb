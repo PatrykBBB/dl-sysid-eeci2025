{
 "cells": [
  {
   "cell_type": "markdown",
   "id": "ddb2fa1b",
   "metadata": {},
   "source": [
    "# NARX and Recurrent Neural Networks\n",
    "## Application to Ground Vibration Test of an F-16 aircraft. Description of the benchmark: https://www.nonlinearbenchmark.org/benchmarks/f-16-gvt\n",
    "\n",
    "### Course on Deep Learning for System Identification\n",
    "### Authors: Dario Piga, Marco Forgione\n",
    "### Milano, July, 2025"
   ]
  },
  {
   "cell_type": "markdown",
   "id": "33297073",
   "metadata": {},
   "source": [
    "## Goal: estimate mechanical vibrations on an F-16 aircraft in response to a shaker input\n",
    "\n",
    "**- Inputs**: \n",
    "1. voltage measured at the output of the signal generator amplifier, acting as a reference input,\n",
    "2. actual force provided by the shaker and measured by a impedance head at the excitation location.\n",
    "\n",
    "**- Outputs:** acceleration signals measured:\n",
    "1. at the excitation location ('Acceleration 1')\n",
    "2. on the right wing next to the interface ('Acceleration 2')\n",
    "3. on the payload next to the interface ('Acceleration 3')"
   ]
  },
  {
   "cell_type": "markdown",
   "id": "93a6d5df",
   "metadata": {},
   "source": [
    "# Exercise 1: NARX with Feedforward NNs:\n",
    "\n",
    "- **Estimate a nonlinear model** describing the relation between the inputs and the three outputs.\n",
    "- Since the two inputs are strongly correlated, you can use either both inputs in your model, or just one of them.\n",
    "- Create three independent models, one for each output. Alternatively, create one single model with 3 outputs.\n",
    "- Use a **fully-connected feedforward Neural Network** taking in past measurements of the two inputs (up to time k) and  measurements of the output (up to time k-1), and returning an estimate of the output at time k. For a single output and two inputs, the structure is:\n",
    "$$y(k) = F(\\overbrace{y(k-1), \\dots, y(k-n_a), u_1(k), \\dots, u_1(k - n_b + 1), u_2(k), \\dots, u_2(k - n_b + 1)}^{=\\phi(k)};\\; W)$$\n",
    "- **Test your results** on the dataset not used for training. Check the performance of your model both on 1-step ahead prediction and simulation. You can use the following metrics to assess the performance of your model:\n",
    "\n",
    "\\begin{align*}\n",
    "\\mathrm{RMSE} &= \\sqrt{\\frac{1}{T} \\sum_{t=1}^T \\big (y_t - \\hat y_t \\big)^2} \\\\\n",
    "R^2 & = 1 - \\frac{\\sum_{t=1}^T \\big (y_t - \\hat y_t \\big)^2}{\\sum_{t=1}^T \\big (y_t - \\bar y_t \\big)^2}\n",
    "\\end{align*}"
   ]
  },
  {
   "cell_type": "markdown",
   "id": "c0908a5c",
   "metadata": {},
   "source": [
    "## Step 0: Data ingestion and normalization (done)\n",
    "\n",
    "Train and test datasets are saved in the GitHub folder *Dataset\\F16*, both in a .mat and .csv  format.\n",
    "- **Train dataset**: F16Data_SineSw_Level3\n",
    "- **Test datasets**: F16Data_SineSw_Level4_Validation\n"
   ]
  },
  {
   "cell_type": "code",
   "execution_count": 1,
   "id": "8b091f4a",
   "metadata": {},
   "outputs": [],
   "source": [
    "import os\n",
    "import pandas as pd\n",
    "import torch\n",
    "import numpy as np"
   ]
  },
  {
   "cell_type": "code",
   "execution_count": 2,
   "id": "fa3c6137",
   "metadata": {},
   "outputs": [],
   "source": [
    "folder = os.path.join(\"..\", \"..\", \"data\", \"F16\")\n",
    "filename_train = os.path.join(folder, \"F16Data_SineSw_Level3.csv\")\n",
    "filename_test = os.path.join(folder, \"F16Data_SineSw_Level4_Validation.csv\")"
   ]
  },
  {
   "cell_type": "code",
   "execution_count": 3,
   "id": "da4426c0",
   "metadata": {},
   "outputs": [],
   "source": [
    "df_train = pd.read_csv(filename_train)\n",
    "df_test = pd.read_csv(filename_test)"
   ]
  },
  {
   "cell_type": "code",
   "execution_count": 4,
   "id": "b1b10c6e",
   "metadata": {},
   "outputs": [],
   "source": [
    "# data normalization\n",
    "ds_mean = df_train.mean()\n",
    "ds_std = df_train.std()\n",
    "df_train = df_train - ds_mean / ds_std\n",
    "df_test = df_test - ds_mean / ds_std"
   ]
  },
  {
   "cell_type": "code",
   "execution_count": 5,
   "id": "eebb7631",
   "metadata": {},
   "outputs": [
    {
     "data": {
      "text/html": [
       "<div>\n",
       "<style scoped>\n",
       "    .dataframe tbody tr th:only-of-type {\n",
       "        vertical-align: middle;\n",
       "    }\n",
       "\n",
       "    .dataframe tbody tr th {\n",
       "        vertical-align: top;\n",
       "    }\n",
       "\n",
       "    .dataframe thead th {\n",
       "        text-align: right;\n",
       "    }\n",
       "</style>\n",
       "<table border=\"1\" class=\"dataframe\">\n",
       "  <thead>\n",
       "    <tr style=\"text-align: right;\">\n",
       "      <th></th>\n",
       "      <th>Force</th>\n",
       "      <th>Voltage</th>\n",
       "      <th>Acceleration1</th>\n",
       "      <th>Acceleration2</th>\n",
       "      <th>Acceleration3</th>\n",
       "      <th>Fs</th>\n",
       "      <th>Unnamed: 6</th>\n",
       "    </tr>\n",
       "  </thead>\n",
       "  <tbody>\n",
       "    <tr>\n",
       "      <th>0</th>\n",
       "      <td>-0.018484</td>\n",
       "      <td>0.000011</td>\n",
       "      <td>0.000699</td>\n",
       "      <td>-0.002362</td>\n",
       "      <td>0.002817</td>\n",
       "      <td>NaN</td>\n",
       "      <td>NaN</td>\n",
       "    </tr>\n",
       "    <tr>\n",
       "      <th>1</th>\n",
       "      <td>-0.014168</td>\n",
       "      <td>0.000006</td>\n",
       "      <td>0.003286</td>\n",
       "      <td>0.000966</td>\n",
       "      <td>-0.004438</td>\n",
       "      <td>NaN</td>\n",
       "      <td>NaN</td>\n",
       "    </tr>\n",
       "    <tr>\n",
       "      <th>2</th>\n",
       "      <td>0.076786</td>\n",
       "      <td>0.000006</td>\n",
       "      <td>-0.006074</td>\n",
       "      <td>0.002666</td>\n",
       "      <td>0.001021</td>\n",
       "      <td>NaN</td>\n",
       "      <td>NaN</td>\n",
       "    </tr>\n",
       "    <tr>\n",
       "      <th>3</th>\n",
       "      <td>0.008705</td>\n",
       "      <td>0.000021</td>\n",
       "      <td>-0.004311</td>\n",
       "      <td>0.002797</td>\n",
       "      <td>0.002421</td>\n",
       "      <td>NaN</td>\n",
       "      <td>NaN</td>\n",
       "    </tr>\n",
       "    <tr>\n",
       "      <th>4</th>\n",
       "      <td>0.014639</td>\n",
       "      <td>0.000009</td>\n",
       "      <td>0.000723</td>\n",
       "      <td>0.000128</td>\n",
       "      <td>-0.001134</td>\n",
       "      <td>NaN</td>\n",
       "      <td>NaN</td>\n",
       "    </tr>\n",
       "  </tbody>\n",
       "</table>\n",
       "</div>"
      ],
      "text/plain": [
       "      Force   Voltage  Acceleration1  Acceleration2  Acceleration3  Fs  \\\n",
       "0 -0.018484  0.000011       0.000699      -0.002362       0.002817 NaN   \n",
       "1 -0.014168  0.000006       0.003286       0.000966      -0.004438 NaN   \n",
       "2  0.076786  0.000006      -0.006074       0.002666       0.001021 NaN   \n",
       "3  0.008705  0.000021      -0.004311       0.002797       0.002421 NaN   \n",
       "4  0.014639  0.000009       0.000723       0.000128      -0.001134 NaN   \n",
       "\n",
       "   Unnamed: 6  \n",
       "0         NaN  \n",
       "1         NaN  \n",
       "2         NaN  \n",
       "3         NaN  \n",
       "4         NaN  "
      ]
     },
     "execution_count": 5,
     "metadata": {},
     "output_type": "execute_result"
    }
   ],
   "source": [
    "df_train.head()"
   ]
  },
  {
   "cell_type": "markdown",
   "id": "99d5b9b8",
   "metadata": {},
   "source": [
    "## Step 1: Data Exploration (TODO). \n",
    "\n",
    "Familiarize with the data. It is also a good practive to plot the input and output signals, see the length, mean and standard deviation, etc."
   ]
  },
  {
   "cell_type": "markdown",
   "id": "7ff5dedd",
   "metadata": {},
   "source": [
    "## Step 2: Lagged dataset preparation (sketched)\n",
    "\n",
    "Create a dataset suitable for NARX training containing past measurements of inputs and output, with instances in the form:\n",
    "\n",
    "$$\\bigg ( \\overbrace{y(k-1), \\dots, y(k-n_a), u_1(k), \\dots, u_1(k - n_b + 1), u_2(k), \\dots, u_2(k - n_b + 1)}^{=\\phi(k)}, \\;\\;y(k) \\bigg)$$"
   ]
  },
  {
   "cell_type": "code",
   "execution_count": 6,
   "id": "8fc2a5e0",
   "metadata": {},
   "outputs": [],
   "source": [
    "output_vars = [\"Acceleration1\"]\n",
    "input_vars = [\"Force\", \"Voltage\"]\n",
    "na = 3\n",
    "nb = 20"
   ]
  },
  {
   "cell_type": "markdown",
   "id": "e7df8639",
   "metadata": {},
   "source": [
    "You may use/adapt the following ``lag_dataframe`` utility function, or follow a different approach"
   ]
  },
  {
   "cell_type": "code",
   "execution_count": 7,
   "id": "6a014674",
   "metadata": {},
   "outputs": [],
   "source": [
    "def lag_dataframe(ds, lag_min, lag_max, columns=None, fill_value=np.nan):\n",
    "    \"\"\"\n",
    "    Create a dataframe containing lagged versions of variables in the input dataframe.\n",
    "    lag_min: minimum lag\n",
    "    lag_max: maximum lag\n",
    "    columns: list of columns to lag, if None all columns are lagged\n",
    "    fill_value: value to fill for missing data corresponding to negative time stamps\n",
    "    \"\"\"\n",
    "    lagged_dict = {}\n",
    "    lagged_vars = []\n",
    "    columns = columns if columns is not None else ds.columns\n",
    "    for var in columns:\n",
    "        for lag in range(lag_min, lag_max+1):\n",
    "            lagged_var = f\"{var}(k-{lag})\" if lag > 0 else f\"{var}(k)\"  # 'var(k-i)\n",
    "            lagged_dict[lagged_var] = ds[var].shift(lag, fill_value=fill_value).copy()\n",
    "            lagged_vars.append(lagged_var)\n",
    "    ds_lag = pd.DataFrame(lagged_dict)\n",
    "    return ds_lag,lagged_vars"
   ]
  },
  {
   "cell_type": "code",
   "execution_count": 8,
   "id": "28a801a3",
   "metadata": {},
   "outputs": [
    {
     "data": {
      "text/html": [
       "<div>\n",
       "<style scoped>\n",
       "    .dataframe tbody tr th:only-of-type {\n",
       "        vertical-align: middle;\n",
       "    }\n",
       "\n",
       "    .dataframe tbody tr th {\n",
       "        vertical-align: top;\n",
       "    }\n",
       "\n",
       "    .dataframe thead th {\n",
       "        text-align: right;\n",
       "    }\n",
       "</style>\n",
       "<table border=\"1\" class=\"dataframe\">\n",
       "  <thead>\n",
       "    <tr style=\"text-align: right;\">\n",
       "      <th></th>\n",
       "      <th>Force(k-1)</th>\n",
       "      <th>Force(k-2)</th>\n",
       "      <th>Force(k-3)</th>\n",
       "      <th>Voltage(k-1)</th>\n",
       "      <th>Voltage(k-2)</th>\n",
       "      <th>Voltage(k-3)</th>\n",
       "    </tr>\n",
       "  </thead>\n",
       "  <tbody>\n",
       "    <tr>\n",
       "      <th>0</th>\n",
       "      <td>NaN</td>\n",
       "      <td>NaN</td>\n",
       "      <td>NaN</td>\n",
       "      <td>NaN</td>\n",
       "      <td>NaN</td>\n",
       "      <td>NaN</td>\n",
       "    </tr>\n",
       "    <tr>\n",
       "      <th>1</th>\n",
       "      <td>-0.018484</td>\n",
       "      <td>NaN</td>\n",
       "      <td>NaN</td>\n",
       "      <td>0.000011</td>\n",
       "      <td>NaN</td>\n",
       "      <td>NaN</td>\n",
       "    </tr>\n",
       "    <tr>\n",
       "      <th>2</th>\n",
       "      <td>-0.014168</td>\n",
       "      <td>-0.018484</td>\n",
       "      <td>NaN</td>\n",
       "      <td>0.000006</td>\n",
       "      <td>0.000011</td>\n",
       "      <td>NaN</td>\n",
       "    </tr>\n",
       "    <tr>\n",
       "      <th>3</th>\n",
       "      <td>0.076786</td>\n",
       "      <td>-0.014168</td>\n",
       "      <td>-0.018484</td>\n",
       "      <td>0.000006</td>\n",
       "      <td>0.000006</td>\n",
       "      <td>0.000011</td>\n",
       "    </tr>\n",
       "    <tr>\n",
       "      <th>4</th>\n",
       "      <td>0.008705</td>\n",
       "      <td>0.076786</td>\n",
       "      <td>-0.014168</td>\n",
       "      <td>0.000021</td>\n",
       "      <td>0.000006</td>\n",
       "      <td>0.000006</td>\n",
       "    </tr>\n",
       "  </tbody>\n",
       "</table>\n",
       "</div>"
      ],
      "text/plain": [
       "   Force(k-1)  Force(k-2)  Force(k-3)  Voltage(k-1)  Voltage(k-2)  \\\n",
       "0         NaN         NaN         NaN           NaN           NaN   \n",
       "1   -0.018484         NaN         NaN      0.000011           NaN   \n",
       "2   -0.014168   -0.018484         NaN      0.000006      0.000011   \n",
       "3    0.076786   -0.014168   -0.018484      0.000006      0.000006   \n",
       "4    0.008705    0.076786   -0.014168      0.000021      0.000006   \n",
       "\n",
       "   Voltage(k-3)  \n",
       "0           NaN  \n",
       "1           NaN  \n",
       "2           NaN  \n",
       "3      0.000011  \n",
       "4      0.000006  "
      ]
     },
     "execution_count": 8,
     "metadata": {},
     "output_type": "execute_result"
    }
   ],
   "source": [
    "# usage of the lag_dataframe utility function\n",
    "ds_lag, lagged_vars = lag_dataframe(df_train[[\"Force\", \"Voltage\"]], lag_min=1, lag_max=3)\n",
    "ds_lag.head()"
   ]
  },
  {
   "cell_type": "code",
   "execution_count": 9,
   "id": "f58519d6-36d8-422d-8444-dc7df41033e6",
   "metadata": {},
   "outputs": [
    {
     "data": {
      "text/plain": [
       "Ellipsis"
      ]
     },
     "execution_count": 9,
     "metadata": {},
     "output_type": "execute_result"
    }
   ],
   "source": [
    "..."
   ]
  },
  {
   "cell_type": "markdown",
   "id": "d56d7e69",
   "metadata": {},
   "source": [
    "Define PyTorch's Dataset and DataLoader"
   ]
  },
  {
   "cell_type": "markdown",
   "id": "ec10062d",
   "metadata": {},
   "source": [
    "## Step 3: Network Definition (sketched). \n",
    "\n",
    "Define a class for your network (see template below)"
   ]
  },
  {
   "cell_type": "code",
   "execution_count": 10,
   "id": "28310b2f",
   "metadata": {},
   "outputs": [],
   "source": [
    "# importing torch and other packages\n",
    "\n",
    "import matplotlib.pyplot as plt\n",
    "import torch \n",
    "import torch.nn as nn # the pytorch nn model contains all the layers we need to define a feedforward NN \n",
    "import torch.nn.functional as F\n",
    "from torchsummary import summary\n",
    "import torch.optim as optim\n",
    "from sklearn.metrics import r2_score\n",
    "import os\n",
    "import pandas as pd\n",
    "import numpy as np\n",
    "  \n",
    "# Enable interactive figures for Jupyter Notebooks.\n",
    "%matplotlib widget "
   ]
  },
  {
   "cell_type": "code",
   "execution_count": 11,
   "id": "33a28bf5",
   "metadata": {},
   "outputs": [],
   "source": [
    "class FeedforwardNeuralNetwork(nn.Module):\n",
    "    def __init__(self, input_size, hidden_sizes, output_size):\n",
    "        super().__init__()\n",
    "\n",
    "        # define here your hidden layers (Linear Layers and activation functions) and output layer (Linear Layer)\n",
    "\n",
    "        ...\n",
    "\n",
    "    def forward(self, x):\n",
    "        # Pass the input through the hidden layer, apply activation, and then pass through output layer\n",
    "\n",
    "        ...\n",
    "\n",
    "        return x\n"
   ]
  },
  {
   "cell_type": "markdown",
   "id": "0f3591a4",
   "metadata": {},
   "source": [
    "## Step 4: Training (TODO).\n",
    "Train your network (see template below, complete it and/or modify it as you like)"
   ]
  },
  {
   "cell_type": "markdown",
   "id": "e7edc621",
   "metadata": {},
   "source": [
    "## Step 5: Performance assessment (TODO) \n",
    "\n",
    "Assess performance on test dataset (it is also a good practice to first assess performance in the training dataset) \n",
    "\n",
    "Performance should be assessed in terms of one-step ahead prediction and simulation.\n",
    "\n",
    "To quantify the performance, compute the RMSE, the $R^2$ coefficient, plot true output and estimate output."
   ]
  },
  {
   "cell_type": "markdown",
   "id": "ae5630df",
   "metadata": {},
   "source": [
    "# Exercise 2: Recurrent Neural Networks:\n",
    "\n",
    "Repeat the same exercise, but **use an RNN network** (either Vanilla RNN or LSTM) instead of a feedforward network. This allows you to look multi-step ahead in your training, rather than than simple 1-step.\n",
    "\n",
    "Hyper-parameter to select:\n",
    "* structure of the network (namely, size of hidden state, number of layers)\n",
    "* sub-sequence length for training\n",
    "* optimization hyper-parameters (learning rate, maximum number of epochs)\n"
   ]
  },
  {
   "cell_type": "markdown",
   "id": "56969c4b",
   "metadata": {},
   "source": [
    "## Data ingestion and normalization (done)"
   ]
  },
  {
   "cell_type": "code",
   "execution_count": 12,
   "id": "044836f3-7111-408b-ac90-6a6ed7c44ee9",
   "metadata": {},
   "outputs": [],
   "source": [
    "folder = os.path.join(\"..\", \"..\", \"data\", \"F16\")\n",
    "filename_train = os.path.join(folder, \"F16Data_SineSw_Level3.csv\")\n",
    "filename_test = os.path.join(folder, \"F16Data_SineSw_Level4_Validation.csv\")"
   ]
  },
  {
   "cell_type": "code",
   "execution_count": 13,
   "id": "d18fc3c0",
   "metadata": {},
   "outputs": [],
   "source": [
    "df_train = pd.read_csv(filename_train)\n",
    "df_test = pd.read_csv(filename_test)"
   ]
  },
  {
   "cell_type": "code",
   "execution_count": 14,
   "id": "ecd2207e",
   "metadata": {},
   "outputs": [],
   "source": [
    "# data normalization\n",
    "ds_mean = df_train.mean()\n",
    "ds_std = df_train.std()\n",
    "df_train = df_train - ds_mean / ds_std\n",
    "df_test = df_test - ds_mean / ds_std"
   ]
  },
  {
   "cell_type": "code",
   "execution_count": 15,
   "id": "689fe29b",
   "metadata": {},
   "outputs": [],
   "source": [
    "output_vars = [\"Acceleration1\"]\n",
    "input_vars = [\"Force\", \"Voltage\"]\n",
    "seq_len = 2000"
   ]
  },
  {
   "cell_type": "code",
   "execution_count": 16,
   "id": "8f7e772e",
   "metadata": {},
   "outputs": [
    {
     "data": {
      "text/html": [
       "<div>\n",
       "<style scoped>\n",
       "    .dataframe tbody tr th:only-of-type {\n",
       "        vertical-align: middle;\n",
       "    }\n",
       "\n",
       "    .dataframe tbody tr th {\n",
       "        vertical-align: top;\n",
       "    }\n",
       "\n",
       "    .dataframe thead th {\n",
       "        text-align: right;\n",
       "    }\n",
       "</style>\n",
       "<table border=\"1\" class=\"dataframe\">\n",
       "  <thead>\n",
       "    <tr style=\"text-align: right;\">\n",
       "      <th></th>\n",
       "      <th>Force</th>\n",
       "      <th>Voltage</th>\n",
       "    </tr>\n",
       "  </thead>\n",
       "  <tbody>\n",
       "    <tr>\n",
       "      <th>0</th>\n",
       "      <td>-0.018484</td>\n",
       "      <td>0.000011</td>\n",
       "    </tr>\n",
       "    <tr>\n",
       "      <th>1</th>\n",
       "      <td>-0.014168</td>\n",
       "      <td>0.000006</td>\n",
       "    </tr>\n",
       "    <tr>\n",
       "      <th>2</th>\n",
       "      <td>0.076786</td>\n",
       "      <td>0.000006</td>\n",
       "    </tr>\n",
       "    <tr>\n",
       "      <th>3</th>\n",
       "      <td>0.008705</td>\n",
       "      <td>0.000021</td>\n",
       "    </tr>\n",
       "    <tr>\n",
       "      <th>4</th>\n",
       "      <td>0.014639</td>\n",
       "      <td>0.000009</td>\n",
       "    </tr>\n",
       "    <tr>\n",
       "      <th>...</th>\n",
       "      <td>...</td>\n",
       "      <td>...</td>\n",
       "    </tr>\n",
       "    <tr>\n",
       "      <th>108472</th>\n",
       "      <td>-0.000034</td>\n",
       "      <td>0.000002</td>\n",
       "    </tr>\n",
       "    <tr>\n",
       "      <th>108473</th>\n",
       "      <td>-0.000034</td>\n",
       "      <td>0.000002</td>\n",
       "    </tr>\n",
       "    <tr>\n",
       "      <th>108474</th>\n",
       "      <td>-0.000034</td>\n",
       "      <td>0.000002</td>\n",
       "    </tr>\n",
       "    <tr>\n",
       "      <th>108475</th>\n",
       "      <td>-0.000034</td>\n",
       "      <td>0.000002</td>\n",
       "    </tr>\n",
       "    <tr>\n",
       "      <th>108476</th>\n",
       "      <td>-0.000034</td>\n",
       "      <td>0.000002</td>\n",
       "    </tr>\n",
       "  </tbody>\n",
       "</table>\n",
       "<p>108477 rows × 2 columns</p>\n",
       "</div>"
      ],
      "text/plain": [
       "           Force   Voltage\n",
       "0      -0.018484  0.000011\n",
       "1      -0.014168  0.000006\n",
       "2       0.076786  0.000006\n",
       "3       0.008705  0.000021\n",
       "4       0.014639  0.000009\n",
       "...          ...       ...\n",
       "108472 -0.000034  0.000002\n",
       "108473 -0.000034  0.000002\n",
       "108474 -0.000034  0.000002\n",
       "108475 -0.000034  0.000002\n",
       "108476 -0.000034  0.000002\n",
       "\n",
       "[108477 rows x 2 columns]"
      ]
     },
     "execution_count": 16,
     "metadata": {},
     "output_type": "execute_result"
    }
   ],
   "source": [
    "df_train[input_vars]"
   ]
  },
  {
   "cell_type": "markdown",
   "id": "7331523d",
   "metadata": {},
   "source": [
    "## Sequence DataSet preparation (sketched)\n",
    "\n",
    "You may exploit the custom PyTorch Dataset defined in the pytorch_sysid.ipynb notebook"
   ]
  },
  {
   "cell_type": "code",
   "execution_count": 17,
   "id": "91b808c1",
   "metadata": {},
   "outputs": [],
   "source": [
    "from torch.utils.data import Dataset\n",
    "\n",
    "class SequenceDataset(Dataset):\n",
    "    r\"\"\"A dataset returning sub-sequences extracted from longer sequences.\n",
    "        For simplicity, this version does not support overlapping subsequences.\n",
    "    Args:\n",
    "        *tensors (Tensor): tensors that have the same size on the first dimension.\n",
    "    Examples:\n",
    "        >>> u = torch.randn(1000, 2) # 2 inputs\n",
    "        >>> y = torch.randn(1000, 3) # 3 outputs\n",
    "        >>> train_dataset = SequenceDataset(u, y, seq_len=100)\n",
    "    \"\"\"\n",
    "\n",
    "    def __init__(self, *tensors, seq_len):\n",
    "        self.tensors = tensors\n",
    "\n",
    "        self.seq_len = seq_len\n",
    "        assert all(tensor.shape[0] == self.tensors[0].shape[0] for tensor in self.tensors), \"All tensors must have the same length\"\n",
    "        self.total_len = self.tensors[0].shape[0]\n",
    "\n",
    "    def __len__(self):\n",
    "        return int(self.total_len // self.seq_len)\n",
    "\n",
    "    def __getitem__(self, idx):\n",
    "        start = idx * self.seq_len\n",
    "        stop = start + self.seq_len\n",
    "        return [tensor[start:stop] for tensor in self.tensors]"
   ]
  },
  {
   "cell_type": "code",
   "execution_count": 18,
   "id": "19a82bff",
   "metadata": {},
   "outputs": [
    {
     "data": {
      "text/plain": [
       "Ellipsis"
      ]
     },
     "execution_count": 18,
     "metadata": {},
     "output_type": "execute_result"
    }
   ],
   "source": [
    "# Datasets\n",
    "train_ds = SequenceDataset(\n",
    "    torch.Tensor(df_train[input_vars].values).type(torch.Tensor),\n",
    "    torch.Tensor(df_train[output_vars].values).type(torch.Tensor),\n",
    "    seq_len=seq_len\n",
    ")\n",
    "\n",
    "... # continue with the test dataset"
   ]
  }
 ],
 "metadata": {
  "kernelspec": {
   "display_name": "Python 3 (ipykernel)",
   "language": "python",
   "name": "python3"
  },
  "language_info": {
   "codemirror_mode": {
    "name": "ipython",
    "version": 3
   },
   "file_extension": ".py",
   "mimetype": "text/x-python",
   "name": "python",
   "nbconvert_exporter": "python",
   "pygments_lexer": "ipython3",
   "version": "3.12.9"
  }
 },
 "nbformat": 4,
 "nbformat_minor": 5
}
