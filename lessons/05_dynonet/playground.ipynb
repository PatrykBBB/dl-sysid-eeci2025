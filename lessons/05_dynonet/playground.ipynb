{
 "cells": [
  {
   "cell_type": "code",
   "execution_count": 1,
   "id": "e40c7c8a",
   "metadata": {},
   "outputs": [],
   "source": [
    "import torch\n",
    "from dynonet.lti import MimoLinearDynamicalOperator\n",
    "from dynonet.static import MimoStaticNonLinearity"
   ]
  },
  {
   "cell_type": "code",
   "execution_count": 2,
   "id": "bdded855",
   "metadata": {},
   "outputs": [],
   "source": [
    "class CustomDynonet(torch.nn.Module):\n",
    "    def __init__(self):\n",
    "        super().__init__()\n",
    "        self.G1 = MimoLinearDynamicalOperator(in_channels=1, out_channels=4, n_a=2, n_b=2, n_k=1)\n",
    "        self.F = MimoStaticNonLinearity(in_channels=4, out_channels=3)\n",
    "        self.G2 = MimoLinearDynamicalOperator(in_channels=3, out_channels=1, n_a=2, n_b=3)\n",
    "        self.Glin = MimoLinearDynamicalOperator(in_channels=1, out_channels=1, n_a=2, n_b=2, n_k=1)\n",
    "\n",
    "    def forward(self, u):\n",
    "        x = self.G1(u)\n",
    "        x = self.F(x)\n",
    "        x = self.G2(x)\n",
    "        y = x + self.Glin(u)\n",
    "        return u"
   ]
  },
  {
   "cell_type": "code",
   "execution_count": 3,
   "id": "8f85796e",
   "metadata": {},
   "outputs": [
    {
     "data": {
      "text/plain": [
       "torch.Size([32, 1000, 1])"
      ]
     },
     "execution_count": 3,
     "metadata": {},
     "output_type": "execute_result"
    }
   ],
   "source": [
    "model = CustomDynonet()\n",
    "batch_u = torch.randn(32, 1000, 1)\n",
    "batch_y = model(batch_u)\n",
    "batch_y.shape"
   ]
  }
 ],
 "metadata": {
  "kernelspec": {
   "display_name": "Python 3 (ipykernel)",
   "language": "python",
   "name": "python3"
  },
  "language_info": {
   "codemirror_mode": {
    "name": "ipython",
    "version": 3
   },
   "file_extension": ".py",
   "mimetype": "text/x-python",
   "name": "python",
   "nbconvert_exporter": "python",
   "pygments_lexer": "ipython3",
   "version": "3.12.9"
  }
 },
 "nbformat": 4,
 "nbformat_minor": 5
}
