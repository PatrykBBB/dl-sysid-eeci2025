{
 "cells": [
  {
   "cell_type": "code",
   "execution_count": 1,
   "id": "ab47c4f0",
   "metadata": {},
   "outputs": [],
   "source": [
    "import matplotlib.pyplot as plt\n",
    "import torch\n",
    "import torch.nn as nn\n",
    "import torch.optim as optim"
   ]
  },
  {
   "cell_type": "markdown",
   "id": "494fceb3",
   "metadata": {
    "slideshow": {
     "slide_type": "slide"
    }
   },
   "source": [
    "## PyTorch: Higher-level abstractions\n",
    "\n",
    "* Structured layers: ``torch.nn.module``\n",
    "* Standard optimizers ``torch.optim`` \n",
    "* Datasets and data loaders"
   ]
  },
  {
   "cell_type": "markdown",
   "id": "b0697426",
   "metadata": {
    "slideshow": {
     "slide_type": "slide"
    }
   },
   "source": [
    "## Motivation\n",
    "\n",
    "Let us define a linear model manually\n",
    "\n",
    "$$ f: \\mathbb{R}^{10} \\rightarrow \\mathbb{R}^{4} := Wx + b $$"
   ]
  },
  {
   "cell_type": "code",
   "execution_count": 2,
   "id": "e085d5fe",
   "metadata": {},
   "outputs": [
    {
     "data": {
      "text/plain": [
       "(torch.Size([10]), torch.Size([4]))"
      ]
     },
     "execution_count": 2,
     "metadata": {},
     "output_type": "execute_result"
    }
   ],
   "source": [
    "nx = 10; ny = 4;\n",
    "W = torch.randn(ny, nx, requires_grad=True)\n",
    "b = torch.randn(ny, requires_grad=True)\n",
    "x = torch.randn(nx)\n",
    "\n",
    "def lin(W, b, x):\n",
    "    y = W @ x + b\n",
    "    return y \n",
    "\n",
    "x.shape, lin(W, b, x).shape"
   ]
  },
  {
   "cell_type": "markdown",
   "id": "49a8f4a0",
   "metadata": {
    "slideshow": {
     "slide_type": "fragment"
    }
   },
   "source": [
    "The above only work on a single instance of size $n_x$. For a batch, we need something else:"
   ]
  },
  {
   "cell_type": "code",
   "execution_count": 3,
   "id": "34bdcac1",
   "metadata": {
    "slideshow": {
     "slide_type": "-"
    }
   },
   "outputs": [
    {
     "data": {
      "text/plain": [
       "(torch.Size([32, 10]), torch.Size([32, 4]))"
      ]
     },
     "execution_count": 3,
     "metadata": {},
     "output_type": "execute_result"
    }
   ],
   "source": [
    "batch_size = 32; batch_x = torch.randn(batch_size, nx)\n",
    "\n",
    "def batched_lin(W, b, batch_x):\n",
    "    y =  batch_x @ W.T + b\n",
    "    return y\n",
    "\n",
    "batch_x.shape, batched_lin(W, b, batch_x).shape"
   ]
  },
  {
   "cell_type": "markdown",
   "id": "65933261",
   "metadata": {
    "slideshow": {
     "slide_type": "subslide"
    }
   },
   "source": [
    "It is much easier to use the built-in PyTorch Linear module"
   ]
  },
  {
   "cell_type": "code",
   "execution_count": 4,
   "id": "0c55af58",
   "metadata": {
    "slideshow": {
     "slide_type": "-"
    }
   },
   "outputs": [
    {
     "data": {
      "text/plain": [
       "(torch.Size([4, 10]), torch.Size([4]))"
      ]
     },
     "execution_count": 4,
     "metadata": {},
     "output_type": "execute_result"
    }
   ],
   "source": [
    "lin = nn.Linear(in_features=nx, out_features=ny, bias=True) # bias=True means we have the b term (truly linear, not affine)\n",
    "lin.weight.shape, lin.bias.shape # W.T and b"
   ]
  },
  {
   "cell_type": "markdown",
   "id": "13d46e61",
   "metadata": {
    "slideshow": {
     "slide_type": "fragment"
    }
   },
   "source": [
    "The module can be called with data, either on a single instance or on a batch"
   ]
  },
  {
   "cell_type": "code",
   "execution_count": 5,
   "id": "b954caa4",
   "metadata": {
    "slideshow": {
     "slide_type": "-"
    }
   },
   "outputs": [
    {
     "data": {
      "text/plain": [
       "(torch.Size([4]), torch.Size([32, 4]))"
      ]
     },
     "execution_count": 5,
     "metadata": {},
     "output_type": "execute_result"
    }
   ],
   "source": [
    "lin(x).shape, lin(batch_x).shape"
   ]
  },
  {
   "cell_type": "markdown",
   "id": "7bd99a6b",
   "metadata": {
    "slideshow": {
     "slide_type": "fragment"
    }
   },
   "source": [
    "Advantages of the ``nn.Linear`` module\n",
    "\n",
    "* Instantiates model parameters with correct dimensions \n",
    "* Organizes model and parameters in good order, within a single object\n",
    "* Handles single instances and batches seamlessly\n",
    "* Less code, more readable"
   ]
  },
  {
   "cell_type": "markdown",
   "id": "2b4edca4",
   "metadata": {},
   "source": [
    "The biggest advantages are for more complex models! "
   ]
  },
  {
   "cell_type": "markdown",
   "id": "fab60e56",
   "metadata": {
    "slideshow": {
     "slide_type": "slide"
    }
   },
   "source": [
    "## Model construction"
   ]
  },
  {
   "cell_type": "markdown",
   "id": "c2f5bbda",
   "metadata": {},
   "source": [
    "We can build more complex models by subclassing ``nn.Module``. \n",
    "\n",
    "Let us define a MLP with 10 inputs, 4 outputs, 100 hidden units:\n",
    "\n",
    "$$f: \\mathbb{R}^{10} \\rightarrow \\mathbb{R}^{4} := W_2 \\tanh (W_1 x + b_1) + b_2$$\n",
    "\n",
    "$$\n",
    "W_1 \\in \\mathbb{R}^{100 \\times 10}, b_1 \\in \\mathbb{R}^{100}, W_2 \\in \\mathbb{R}^{4 \\times 100}, b_2 \\in \\mathbb{R}^{10},\n",
    "$$"
   ]
  },
  {
   "cell_type": "code",
   "execution_count": 6,
   "id": "698be7c0",
   "metadata": {
    "slideshow": {
     "slide_type": "fragment"
    }
   },
   "outputs": [],
   "source": [
    "class MLP(nn.Module):\n",
    "    def __init__(self, in_size, out_size, hidden_size):\n",
    "        super().__init__()\n",
    "        self.lin1 = nn.Linear(in_size, hidden_size)\n",
    "        self.activation = nn.Tanh()\n",
    "        self.lin2 = nn.Linear(hidden_size, out_size)\n",
    "\n",
    "    def forward(self, x):\n",
    "        x = self.activation(self.lin1(x)) # hidden layer\n",
    "        x = self.lin2(x) # output layer\n",
    "        return x"
   ]
  },
  {
   "cell_type": "code",
   "execution_count": 7,
   "id": "9641a8d8",
   "metadata": {
    "scrolled": true,
    "slideshow": {
     "slide_type": "subslide"
    }
   },
   "outputs": [
    {
     "data": {
      "text/plain": [
       "MLP(\n",
       "  (lin1): Linear(in_features=10, out_features=100, bias=True)\n",
       "  (activation): Tanh()\n",
       "  (lin2): Linear(in_features=100, out_features=4, bias=True)\n",
       ")"
      ]
     },
     "execution_count": 7,
     "metadata": {},
     "output_type": "execute_result"
    }
   ],
   "source": [
    "mlp = MLP(in_size=10, out_size=4, hidden_size=100); mlp"
   ]
  },
  {
   "cell_type": "code",
   "execution_count": 8,
   "id": "92624a28",
   "metadata": {
    "slideshow": {
     "slide_type": "fragment"
    }
   },
   "outputs": [
    {
     "data": {
      "text/plain": [
       "(torch.Size([10]), torch.Size([32, 10]))"
      ]
     },
     "execution_count": 8,
     "metadata": {},
     "output_type": "execute_result"
    }
   ],
   "source": [
    "x.shape, batch_x.shape"
   ]
  },
  {
   "cell_type": "code",
   "execution_count": 9,
   "id": "b916218a",
   "metadata": {
    "slideshow": {
     "slide_type": "fragment"
    }
   },
   "outputs": [
    {
     "data": {
      "text/plain": [
       "(torch.Size([4]), torch.Size([32, 4]))"
      ]
     },
     "execution_count": 9,
     "metadata": {},
     "output_type": "execute_result"
    }
   ],
   "source": [
    "mlp(x).shape, mlp(batch_x).shape"
   ]
  },
  {
   "cell_type": "markdown",
   "id": "87cb4619",
   "metadata": {
    "slideshow": {
     "slide_type": "slide"
    }
   },
   "source": [
    "## Example\n",
    "\n",
    "The same of the previous exercise: data from\n",
    "\n",
    "$$ y = 2 \\sin(3x) - 3 \\cos(7x) $$"
   ]
  },
  {
   "cell_type": "code",
   "execution_count": 10,
   "id": "e3f3ec14",
   "metadata": {
    "scrolled": true
   },
   "outputs": [
    {
     "data": {
      "image/png": "[encoded data removed]",
      "text/plain": [
       "<Figure size 800x300 with 1 Axes>"
      ]
     },
     "metadata": {},
     "output_type": "display_data"
    }
   ],
   "source": [
    "nx = 1; ny = 1; a = -1; b = 1; n_samples = 100; sigma_e = 0.1\n",
    "x_train = a + torch.rand((n_samples, 1))*(b - a)\n",
    "y_train = 2*torch.sin(3*x_train)  - 3*torch.cos(7*x_train)\n",
    "plt.figure(figsize=(8, 3))\n",
    "plt.plot(x_train, y_train, \"*\");"
   ]
  },
  {
   "cell_type": "code",
   "execution_count": 11,
   "id": "506a367a",
   "metadata": {
    "slideshow": {
     "slide_type": "fragment"
    }
   },
   "outputs": [
    {
     "data": {
      "text/plain": [
       "MLP(\n",
       "  (lin1): Linear(in_features=1, out_features=16, bias=True)\n",
       "  (activation): Tanh()\n",
       "  (lin2): Linear(in_features=16, out_features=1, bias=True)\n",
       ")"
      ]
     },
     "execution_count": 11,
     "metadata": {},
     "output_type": "execute_result"
    }
   ],
   "source": [
    "mlp = MLP(in_size=1, out_size=1, hidden_size=16); mlp"
   ]
  },
  {
   "cell_type": "code",
   "execution_count": 12,
   "id": "68fa6b03",
   "metadata": {
    "slideshow": {
     "slide_type": "-"
    }
   },
   "outputs": [
    {
     "data": {
      "text/plain": [
       "torch.Size([100, 1])"
      ]
     },
     "execution_count": 12,
     "metadata": {},
     "output_type": "execute_result"
    }
   ],
   "source": [
    "mlp(x_train).shape"
   ]
  },
  {
   "cell_type": "markdown",
   "id": "0c139ca7",
   "metadata": {
    "slideshow": {
     "slide_type": "slide"
    }
   },
   "source": [
    "## Training with ``nn.Module``"
   ]
  },
  {
   "cell_type": "code",
   "execution_count": 13,
   "id": "4faa046c",
   "metadata": {},
   "outputs": [],
   "source": [
    "mlp = MLP(in_size=1, out_size=1, hidden_size=16)\n",
    "LOSS = []\n",
    "for _ in range(10_000):\n",
    "    y_hat = mlp(x_train)\n",
    "    loss = torch.mean((y_train - y_hat)**2)\n",
    "    loss.backward()\n",
    "    # manual gradient descent\n",
    "    for p in mlp.parameters():\n",
    "        p.data -= 0.01 * p.grad\n",
    "        p.grad.zero_() # clears the .grad variable\n",
    "    LOSS.append(loss.item())"
   ]
  },
  {
   "cell_type": "code",
   "execution_count": 14,
   "id": "14776e8e",
   "metadata": {
    "scrolled": true,
    "slideshow": {
     "slide_type": "fragment"
    }
   },
   "outputs": [
    {
     "data": {
      "image/png": "[encoded data removed]",
      "text/plain": [
       "<Figure size 1300x300 with 2 Axes>"
      ]
     },
     "metadata": {},
     "output_type": "display_data"
    }
   ],
   "source": [
    "y_hat = mlp(x_train).detach() \n",
    "fig, ax = plt.subplots(1, 2, figsize=(13, 3))\n",
    "ax[0].plot(LOSS, \"k*\")\n",
    "ax[1].plot(x_train, y_train, \"k*\")\n",
    "ax[1].plot(x_train, y_hat, \"b*\")\n",
    "ax[1].plot(x_train, y_train - y_hat, \"r*\");"
   ]
  },
  {
   "cell_type": "markdown",
   "id": "b819c7fb",
   "metadata": {
    "slideshow": {
     "slide_type": "slide"
    }
   },
   "source": [
    "## Training with ``nn.Module`` and PyTorch optimizers\n",
    "\n",
    "* Plain gradient descent is not the best algorithm. Adam, AdamW, L-BFGS are often more effective\n",
    "* It is boring and error-prone to implement optimizers from scratch\n",
    "* PyTorch provides standard optimizers in ``torch.optim``"
   ]
  },
  {
   "cell_type": "code",
   "execution_count": 15,
   "id": "19144f16",
   "metadata": {
    "slideshow": {
     "slide_type": "fragment"
    }
   },
   "outputs": [],
   "source": [
    "mlp = MLP(in_size=1, out_size=1, hidden_size=16)\n",
    "opt = torch.optim.Adam(mlp.parameters(), lr=1e-3) # ready-made optimizers\n",
    "\n",
    "LOSS = []\n",
    "for _ in range(10_000):\n",
    "    opt.zero_grad() # cleans gradients accumulated from previous iterations\n",
    "    y_hat = mlp(x_train)\n",
    "    loss = torch.mean((y_train - y_hat)**2)\n",
    "    loss.backward() # gradient computation\n",
    "    opt.step() # optimization step\n",
    "    LOSS.append(loss.item())"
   ]
  },
  {
   "cell_type": "code",
   "execution_count": 16,
   "id": "7269971a",
   "metadata": {
    "scrolled": true,
    "slideshow": {
     "slide_type": "fragment"
    }
   },
   "outputs": [
    {
     "data": {
      "image/png": "[encoded data removed]",
      "text/plain": [
       "<Figure size 1500x300 with 2 Axes>"
      ]
     },
     "metadata": {},
     "output_type": "display_data"
    }
   ],
   "source": [
    "y_hat = mlp(x_train).detach() \n",
    "fig, ax = plt.subplots(1, 2, figsize=(15, 3))\n",
    "ax[0].plot(LOSS, \"k*\")\n",
    "ax[1].plot(x_train, y_train, \"k*\")\n",
    "ax[1].plot(x_train, y_hat, \"b*\")\n",
    "ax[1].plot(x_train, y_train - y_hat, \"r*\");"
   ]
  },
  {
   "cell_type": "markdown",
   "id": "d18d9dc4",
   "metadata": {
    "slideshow": {
     "slide_type": "slide"
    }
   },
   "source": [
    "## Datasets and data loaders\n",
    "\n",
    "In the previous examples, the dataset was very simple and we trained on the whole dataset\n",
    "\n",
    "* It is more common to train with (mini)batches\n",
    "* Sometimes the data extraction logic is complex\n",
    "* The ``Dataset`` and ``DataLoader`` classes in ``torch.utils.data`` facilitate data handling"
   ]
  },
  {
   "cell_type": "markdown",
   "id": "45b920bc",
   "metadata": {
    "slideshow": {
     "slide_type": "fragment"
    }
   },
   "source": [
    "We use a larger dataset to make things look a little bit more realistic:"
   ]
  },
  {
   "cell_type": "code",
   "execution_count": 17,
   "id": "732dcf22",
   "metadata": {},
   "outputs": [
    {
     "data": {
      "text/plain": [
       "(torch.Size([10000, 1]), torch.Size([10000, 1]))"
      ]
     },
     "execution_count": 17,
     "metadata": {},
     "output_type": "execute_result"
    }
   ],
   "source": [
    "x_train_long = a + torch.rand((100*n_samples, 1))*(b - a)\n",
    "y_train_long = 2*torch.sin(3*x_train_long)  - 3*torch.cos(7*x_train_long)\n",
    "x_train_long.shape, y_train_long.shape"
   ]
  },
  {
   "cell_type": "markdown",
   "id": "7ef45fca",
   "metadata": {
    "slideshow": {
     "slide_type": "slide"
    }
   },
   "source": [
    "## Dataset\n",
    "\n",
    "The PyTorch dataset is meant to hide the complexity of retreiving training instances"
   ]
  },
  {
   "cell_type": "code",
   "execution_count": 18,
   "id": "50e60d13",
   "metadata": {
    "slideshow": {
     "slide_type": "fragment"
    }
   },
   "outputs": [],
   "source": [
    "from torch.utils.data import Dataset, TensorDataset\n",
    "\n",
    "class MyDataset(Dataset):\n",
    "    def __init__(self, x, y):\n",
    "        self.x = x\n",
    "        self.y = y\n",
    "\n",
    "    # number of training instances\n",
    "    def __len__(self):\n",
    "        return len(self.x)\n",
    "\n",
    "    # logit to access a single instance.\n",
    "    def __getitem__(self, idx):\n",
    "        return self.x[idx], self.y[idx] # this could be a complex data retrieval operation instead!"
   ]
  },
  {
   "cell_type": "code",
   "execution_count": 19,
   "id": "08ca47f5",
   "metadata": {},
   "outputs": [
    {
     "data": {
      "text/plain": [
       "(tensor([-0.8354]), tensor([-3.9070]))"
      ]
     },
     "execution_count": 19,
     "metadata": {},
     "output_type": "execute_result"
    }
   ],
   "source": [
    "ds = MyDataset(x_train_long, y_train_long)\n",
    "ds[0] # a simple input-output pair"
   ]
  },
  {
   "cell_type": "code",
   "execution_count": 20,
   "id": "b905f688",
   "metadata": {
    "slideshow": {
     "slide_type": "fragment"
    }
   },
   "outputs": [
    {
     "data": {
      "text/plain": [
       "(tensor([-0.8354]), tensor([-3.9070]))"
      ]
     },
     "execution_count": 20,
     "metadata": {},
     "output_type": "execute_result"
    }
   ],
   "source": [
    "x_train_long[0], y_train_long[0]"
   ]
  },
  {
   "cell_type": "markdown",
   "id": "9307b12c",
   "metadata": {
    "slideshow": {
     "slide_type": "fragment"
    }
   },
   "source": [
    "In ``MyDataset``, the ``__getitem__`` logic is trivial. In general, it could hide reading from file, accessing databases, generating synthetic data, ..."
   ]
  },
  {
   "cell_type": "code",
   "execution_count": 21,
   "id": "cfa57342",
   "metadata": {
    "slideshow": {
     "slide_type": "fragment"
    }
   },
   "outputs": [
    {
     "data": {
      "text/plain": [
       "(tensor([-0.8354]), tensor([-3.9070]))"
      ]
     },
     "execution_count": 21,
     "metadata": {},
     "output_type": "execute_result"
    }
   ],
   "source": [
    "ds = TensorDataset(x_train_long, y_train_long) # this built-in DataSet is equivalent to MyDataset\n",
    "ds[0]"
   ]
  },
  {
   "cell_type": "markdown",
   "id": "5d645475",
   "metadata": {
    "slideshow": {
     "slide_type": "slide"
    }
   },
   "source": [
    "### Data Loader\n",
    "\n",
    "The ``DataLoader`` takes in a ``Dataset`` and provides an iterator over the batches"
   ]
  },
  {
   "cell_type": "code",
   "execution_count": 22,
   "id": "25d90dd7",
   "metadata": {},
   "outputs": [],
   "source": [
    "from torch.utils.data import DataLoader\n",
    "\n",
    "ds = TensorDataset(x_train_long, y_train_long)\n",
    "dl = DataLoader(ds, batch_size=32, shuffle=True)"
   ]
  },
  {
   "cell_type": "code",
   "execution_count": 23,
   "id": "dffa563b",
   "metadata": {},
   "outputs": [
    {
     "data": {
      "text/plain": [
       "(torch.Size([32, 1]), torch.Size([32, 1]))"
      ]
     },
     "execution_count": 23,
     "metadata": {},
     "output_type": "execute_result"
    }
   ],
   "source": [
    "batch_x, batch_y = next(iter(dl)) # the data loader is a Python iterable\n",
    "batch_x.shape, batch_y.shape # a batch of training instances, ready for a training step!"
   ]
  },
  {
   "cell_type": "markdown",
   "id": "22f8d488",
   "metadata": {
    "slideshow": {
     "slide_type": "fragment"
    }
   },
   "source": [
    "In particular, we can iterate it with a for loop, where iterative optimization will run. We typically pass through the dataset a number of *epochs*."
   ]
  },
  {
   "cell_type": "code",
   "execution_count": 24,
   "id": "990fb3e6",
   "metadata": {},
   "outputs": [],
   "source": [
    "for epoch in range(10):\n",
    "    for (batch_x, batch_y) in dl:\n",
    "        pass # actually, do a training step here!"
   ]
  },
  {
   "cell_type": "markdown",
   "id": "e5693fcd",
   "metadata": {
    "slideshow": {
     "slide_type": "slide"
    }
   },
   "source": [
    "## Training Loop\n",
    "\n",
    "Finally, this canonical training code in PyTorch!"
   ]
  },
  {
   "cell_type": "code",
   "execution_count": 25,
   "id": "5b526e09",
   "metadata": {},
   "outputs": [],
   "source": [
    "ds = TensorDataset(x_train_long, y_train_long)\n",
    "dl = DataLoader(ds, batch_size=128, shuffle=True)\n",
    "mlp = MLP(in_size=1, out_size=1, hidden_size=16)\n",
    "opt = torch.optim.Adam(mlp.parameters(), lr=1e-2)\n",
    "\n",
    "LOSS = []\n",
    "for epoch in range(40): # 1 epoch is a \"pass\" through the whole training dataset\n",
    "    for (batch_x, batch_y) in dl: # 1 iteration is an optimization step executed on a minibatch\n",
    "\n",
    "        opt.zero_grad()\n",
    "        batch_y_hat = mlp(batch_x)\n",
    "        loss = torch.mean((batch_y - batch_y_hat)**2)\n",
    "        \n",
    "        loss.backward() # gradient computation\n",
    "        opt.step() # optimization step\n",
    "        LOSS.append(loss.item())"
   ]
  },
  {
   "cell_type": "code",
   "execution_count": 26,
   "id": "c75706a2",
   "metadata": {
    "scrolled": false
   },
   "outputs": [
    {
     "data": {
      "image/png": "[encoded data removed]",
      "text/plain": [
       "<Figure size 1500x300 with 2 Axes>"
      ]
     },
     "metadata": {},
     "output_type": "display_data"
    }
   ],
   "source": [
    "with torch.no_grad():\n",
    "    y_hat = mlp(x_train)\n",
    "    \n",
    "fig, ax = plt.subplots(1, 2, figsize=(15, 3))\n",
    "ax[0].plot(LOSS, \"k*\")\n",
    "ax[1].plot(x_train, y_train, \"k*\")\n",
    "ax[1].plot(x_train, y_hat, \"b*\")\n",
    "ax[1].plot(x_train, y_train - y_hat, \"r*\");"
   ]
  },
  {
   "cell_type": "markdown",
   "id": "8d2370ea",
   "metadata": {
    "slideshow": {
     "slide_type": "slide"
    }
   },
   "source": [
    "# The Functional API\n"
   ]
  },
  {
   "cell_type": "markdown",
   "id": "e026cf4a",
   "metadata": {
    "slideshow": {
     "slide_type": "-"
    }
   },
   "source": [
    "PyTorch \"hide\" parameters within modules. Often convenient, but limiting/awkward for some advanced use cases"
   ]
  },
  {
   "cell_type": "code",
   "execution_count": 27,
   "id": "b66e6f7f",
   "metadata": {},
   "outputs": [
    {
     "data": {
      "text/plain": [
       "MLP(\n",
       "  (lin1): Linear(in_features=1, out_features=16, bias=True)\n",
       "  (activation): Tanh()\n",
       "  (lin2): Linear(in_features=16, out_features=1, bias=True)\n",
       ")"
      ]
     },
     "execution_count": 27,
     "metadata": {},
     "output_type": "execute_result"
    }
   ],
   "source": [
    "mlp"
   ]
  },
  {
   "cell_type": "code",
   "execution_count": 28,
   "id": "621a34f8",
   "metadata": {},
   "outputs": [
    {
     "data": {
      "text/plain": [
       "torch.Size([32, 1])"
      ]
     },
     "execution_count": 28,
     "metadata": {},
     "output_type": "execute_result"
    }
   ],
   "source": [
    "batch_x = torch.randn(batch_size, 1); batch_y = torch.randn(batch_size, 1); \n",
    "mlp(batch_x).shape"
   ]
  },
  {
   "cell_type": "markdown",
   "id": "aa623655",
   "metadata": {
    "slideshow": {
     "slide_type": "fragment"
    }
   },
   "source": [
    "We can optionally call modules as functions. First, extract the parameters to a dictionary of tensors:"
   ]
  },
  {
   "cell_type": "code",
   "execution_count": 29,
   "id": "da94fd90",
   "metadata": {
    "slideshow": {
     "slide_type": "-"
    }
   },
   "outputs": [],
   "source": [
    "params = dict(mlp.named_parameters()) # dictionary parmeter_name : parameter_value"
   ]
  },
  {
   "cell_type": "markdown",
   "id": "1faf7ddf",
   "metadata": {
    "slideshow": {
     "slide_type": "fragment"
    }
   },
   "source": [
    "Then, call them with ``torch.func.functional_call``"
   ]
  },
  {
   "cell_type": "code",
   "execution_count": 30,
   "id": "3f520dff",
   "metadata": {
    "slideshow": {
     "slide_type": "-"
    }
   },
   "outputs": [
    {
     "data": {
      "text/plain": [
       "torch.Size([32, 1])"
      ]
     },
     "execution_count": 30,
     "metadata": {},
     "output_type": "execute_result"
    }
   ],
   "source": [
    "batch_y_pred = torch.func.functional_call(mlp, params, batch_x); batch_y_pred.shape"
   ]
  },
  {
   "cell_type": "markdown",
   "id": "38643f08",
   "metadata": {
    "slideshow": {
     "slide_type": "slide"
    }
   },
   "source": [
    "# The Functional API"
   ]
  },
  {
   "cell_type": "markdown",
   "id": "6bc9420b",
   "metadata": {},
   "source": [
    "We may then write the loss as a differentiable function..."
   ]
  },
  {
   "cell_type": "code",
   "execution_count": 31,
   "id": "b49aa1f1",
   "metadata": {
    "slideshow": {
     "slide_type": "-"
    }
   },
   "outputs": [
    {
     "data": {
      "text/plain": [
       "tensor(9.0727, grad_fn=<MeanBackward0>)"
      ]
     },
     "execution_count": 31,
     "metadata": {},
     "output_type": "execute_result"
    }
   ],
   "source": [
    "def loss_fn(params, x, y):\n",
    "    y_pred = torch.func.functional_call(mlp, params, x);\n",
    "    loss = torch.mean((y - y_pred)**2)\n",
    "    return loss\n",
    "    \n",
    "loss_fn(params, batch_x, batch_y)"
   ]
  },
  {
   "cell_type": "markdown",
   "id": "43945eda",
   "metadata": {
    "slideshow": {
     "slide_type": "fragment"
    }
   },
   "source": [
    "and the loss gradient as a differentiable function..."
   ]
  },
  {
   "cell_type": "code",
   "execution_count": 32,
   "id": "379372eb",
   "metadata": {},
   "outputs": [
    {
     "data": {
      "text/plain": [
       "{'lin1.weight': tensor([[ 0.5407],\n",
       "         [ 0.3673],\n",
       "         [ 0.5387],\n",
       "         [-0.0798],\n",
       "         [-1.0695],\n",
       "         [-0.4884],\n",
       "         [-0.1604],\n",
       "         [ 1.7567],\n",
       "         [-0.1606],\n",
       "         [ 0.2097],\n",
       "         [ 0.4959],\n",
       "         [ 0.1670],\n",
       "         [ 0.4830],\n",
       "         [ 0.2380],\n",
       "         [ 0.3526],\n",
       "         [ 0.5951]], grad_fn=<TBackward0>),\n",
       " 'lin1.bias': tensor([-0.7598, -0.5226, -0.7487,  0.1276, -2.0198,  0.6972,  1.1384,  3.5209,\n",
       "          0.2683, -0.2994, -0.6860, -1.1193,  1.0618, -0.2885, -0.4720, -0.8061],\n",
       "        grad_fn=<ViewBackward0>),\n",
       " 'lin2.weight': tensor([[ 0.5807,  0.5293,  0.5450,  0.3654, -1.1442, -0.5430,  0.3081,  1.3652,\n",
       "           0.2756, -0.3091,  0.5330, -0.2798,  0.7721, -0.3553,  0.6438,  0.4960]],\n",
       "        grad_fn=<TBackward0>),\n",
       " 'lin2.bias': tensor([-0.4657], grad_fn=<ViewBackward0>)}"
      ]
     },
     "execution_count": 32,
     "metadata": {},
     "output_type": "execute_result"
    }
   ],
   "source": [
    "grad_fn = torch.func.grad(loss_fn, argnums=0) # gradient of loss_fn wrt first argument\n",
    "grads = grad_fn(params, batch_x, batch_y) # dictionary parameter_name: gradient_value\n",
    "grads"
   ]
  },
  {
   "cell_type": "markdown",
   "id": "7ea41a72",
   "metadata": {
    "slideshow": {
     "slide_type": "subslide"
    }
   },
   "source": [
    "and the parameter update as a differentiable function."
   ]
  },
  {
   "cell_type": "code",
   "execution_count": 33,
   "id": "04d87b53",
   "metadata": {},
   "outputs": [],
   "source": [
    "def gd_update_fn(p, x, y, alpha):\n",
    "    grad_fn = torch.func.grad(loss_fn, argnums=0)\n",
    "    g = grad_fn(p, x, y)\n",
    "    p_upd = {k: p[k] - alpha * g[k] for k in p.keys()} # gradient descent step\n",
    "    return p_upd"
   ]
  },
  {
   "cell_type": "code",
   "execution_count": 34,
   "id": "d6e137c6",
   "metadata": {},
   "outputs": [],
   "source": [
    "alpha = torch.tensor(0.1)\n",
    "params_updated = gd_update_fn(params, batch_x, batch_y, alpha) # parameters updated by gradient descent!"
   ]
  },
  {
   "cell_type": "markdown",
   "id": "e3cd6119",
   "metadata": {
    "slideshow": {
     "slide_type": "fragment"
    }
   },
   "source": [
    "The function ``gd_update_fn`` is a gradient descent step, and it is still differentiable with respect to all its arguments!"
   ]
  },
  {
   "cell_type": "markdown",
   "id": "ddb753da",
   "metadata": {},
   "source": [
    "This allows one to optimize (parameterized) algorithms, e.g.\n",
    "* learn the best initialization for gradient descent (MAML)\n",
    "* learn the best learning rate by gradient descent"
   ]
  },
  {
   "cell_type": "markdown",
   "id": "2906a982",
   "metadata": {
    "slideshow": {
     "slide_type": "fragment"
    }
   },
   "source": [
    "Learning algorithms automatically from data is known as **meta learning**, aka learning to learn."
   ]
  },
  {
   "cell_type": "markdown",
   "id": "bce711ec",
   "metadata": {
    "slideshow": {
     "slide_type": "slide"
    }
   },
   "source": [
    "## The Functional API"
   ]
  },
  {
   "cell_type": "markdown",
   "id": "383de3f0",
   "metadata": {},
   "source": [
    "Another super useful tool in the functional API is ``vmap``, which allows you to vectorize (\"batchify\") functions."
   ]
  },
  {
   "cell_type": "code",
   "execution_count": 35,
   "id": "2284dc9b",
   "metadata": {},
   "outputs": [],
   "source": [
    "n_hidden = 16; nx=3; ny=2; batch_size=32\n",
    "params = {\n",
    "    \"W1\": torch.randn(n_hidden, nx, requires_grad=True),\n",
    "    \"b1\": torch.randn(n_hidden, requires_grad=True),\n",
    "    \"W2\": torch.randn(ny, n_hidden, requires_grad=True),\n",
    "    \"b2\": torch.randn(ny, requires_grad=True)\n",
    "}\n",
    "\n",
    "def nn(params, x):\n",
    "    # shape of x: (nx,)\n",
    "    z = torch.tanh(params[\"W1\"] @ x + params[\"b1\"])\n",
    "    y = params[\"W2\"] @ z + params[\"b2\"]\n",
    "    return y"
   ]
  },
  {
   "cell_type": "code",
   "execution_count": 36,
   "id": "281bbf7e",
   "metadata": {},
   "outputs": [],
   "source": [
    "batched_nn = torch.func.vmap(nn, in_dims=(None, 0)) # vectorize with respect to the second argument (x) shape of x: (batch_size, nx)"
   ]
  },
  {
   "cell_type": "code",
   "execution_count": 37,
   "id": "20efd46f",
   "metadata": {
    "slideshow": {
     "slide_type": "fragment"
    }
   },
   "outputs": [
    {
     "data": {
      "text/plain": [
       "torch.Size([32, 2])"
      ]
     },
     "execution_count": 37,
     "metadata": {},
     "output_type": "execute_result"
    }
   ],
   "source": [
    "batched_nn(params, torch.randn((batch_size, nx))).shape"
   ]
  },
  {
   "cell_type": "markdown",
   "id": "baf3e5e0",
   "metadata": {},
   "source": [
    "This allows one to define functions on a single example, without the need of tricky linear algebra/broadcasting tricks"
   ]
  },
  {
   "cell_type": "code",
   "execution_count": 38,
   "id": "eedd0861",
   "metadata": {
    "slideshow": {
     "slide_type": "fragment"
    }
   },
   "outputs": [],
   "source": [
    "# We can \"vectorize\" the nn function with linear algebra and broadcasting tricks\n",
    "def batched_nn(params, x):\n",
    "    z = torch.sigmoid(x @ params[\"W1\"].T + params[\"b1\"])\n",
    "    y = z @ params[\"W2\"].T + params[\"b2\"]\n",
    "    return y"
   ]
  },
  {
   "cell_type": "markdown",
   "id": "b4083904",
   "metadata": {
    "slideshow": {
     "slide_type": "fragment"
    }
   },
   "source": [
    "Functional programming is the \"default\" approach in some deep learning libraries (eg, JAX)."
   ]
  }
 ],
 "metadata": {
  "celltoolbar": "Slideshow",
  "kernelspec": {
   "display_name": "Python 3 (ipykernel)",
   "language": "python",
   "name": "python3"
  },
  "language_info": {
   "codemirror_mode": {
    "name": "ipython",
    "version": 3
   },
   "file_extension": ".py",
   "mimetype": "text/x-python",
   "name": "python",
   "nbconvert_exporter": "python",
   "pygments_lexer": "ipython3",
   "version": "3.12.9"
  }
 },
 "nbformat": 4,
 "nbformat_minor": 5
}
