{
 "cells": [
  {
   "cell_type": "code",
   "execution_count": 1,
   "id": "60e14244",
   "metadata": {},
   "outputs": [],
   "source": [
    "import torch\n",
    "import copy\n",
    "import matplotlib.pyplot as plt"
   ]
  },
  {
   "cell_type": "markdown",
   "id": "110ac9cd",
   "metadata": {
    "slideshow": {
     "slide_type": "-"
    }
   },
   "source": [
    "## Training an MLP\n",
    "\n",
    "\n",
    "The previous linear regression example was kind of a joke. Let us get (slightly) more serious!\n",
    "\n",
    "\n"
   ]
  },
  {
   "cell_type": "markdown",
   "id": "7f584be1",
   "metadata": {},
   "source": [
    "Dataset creation"
   ]
  },
  {
   "cell_type": "code",
   "execution_count": 2,
   "id": "766f6f8a",
   "metadata": {},
   "outputs": [],
   "source": [
    "nx = 1 # single input\n",
    "ny = 1 # single output\n",
    "a = -1 # lower limit x\n",
    "b = 1 # higher limit x\n",
    "n_samples = 100 # data point\n",
    "sigma_e = 0.1 # noise std\n",
    "lr = 1e-3 # learning rage"
   ]
  },
  {
   "cell_type": "code",
   "execution_count": 3,
   "id": "6b73eca2",
   "metadata": {},
   "outputs": [],
   "source": [
    "# Function definition\n",
    "def f(x):\n",
    "    return 2*torch.sin(3*x)  - 3*torch.cos(7*x)"
   ]
  },
  {
   "cell_type": "code",
   "execution_count": 4,
   "id": "267a8d0f",
   "metadata": {},
   "outputs": [
    {
     "data": {
      "text/plain": [
       "(torch.Size([100, 1]), torch.Size([100, 1]))"
      ]
     },
     "execution_count": 4,
     "metadata": {},
     "output_type": "execute_result"
    }
   ],
   "source": [
    "# Generate synthetic data\n",
    "x_train = a + torch.rand((n_samples, 1))*(b - a)\n",
    "y_train = f(x_train) + sigma_e * torch.randn(n_samples, 1)\n",
    "y_train = y_train.view(-1, 1)\n",
    "x_train.shape, y_train.shape"
   ]
  },
  {
   "cell_type": "code",
   "execution_count": 5,
   "id": "c1e1df52",
   "metadata": {},
   "outputs": [
    {
     "data": {
      "image/png": "[encoded data removed]",
      "text/plain": [
       "<Figure size 640x480 with 1 Axes>"
      ]
     },
     "metadata": {},
     "output_type": "display_data"
    }
   ],
   "source": [
    "plt.plot(x_train, y_train, \"*\");"
   ]
  },
  {
   "cell_type": "markdown",
   "id": "b6728422",
   "metadata": {
    "slideshow": {
     "slide_type": "-"
    }
   },
   "source": [
    "### Model"
   ]
  },
  {
   "cell_type": "markdown",
   "id": "79138724",
   "metadata": {},
   "source": [
    "We model the data with a MLP with one hidden layer with 16 hidden nodes:\n",
    "\\begin{gather}\n",
    "f: \\mathbb{R} \\rightarrow \\mathbb{R} := W_2 \\tanh (W_1 x + b_1) + b_2 \\\\\n",
    "\\end{gather}\n",
    "\n",
    "with \n",
    "\\begin{equation}\n",
    "W_1 \\in \\mathbb{R}^{16 \\times 1}, b_1 \\in \\mathbb{R}^{16}, W_2 \\in \\mathbb{R}^{1 \\times 16}, b_2 \\in \\mathbb{R}^{1}\n",
    "\\end{equation}"
   ]
  },
  {
   "cell_type": "code",
   "execution_count": 6,
   "id": "1aa47c66",
   "metadata": {},
   "outputs": [],
   "source": [
    "n_hidden = 16\n",
    "params_init = {\n",
    "    \"W1\": torch.randn(n_hidden, nx, requires_grad=True),\n",
    "    \"b1\": torch.randn(n_hidden, requires_grad=True),\n",
    "    \"W2\": torch.randn(ny, n_hidden, requires_grad=True),\n",
    "    \"b2\": torch.randn(ny, requires_grad=True)\n",
    "}\n",
    "\n",
    "def nn(params, x):\n",
    "    z = torch.tanh(params[\"W1\"] @ x + params[\"b1\"])\n",
    "    y = params[\"W2\"] @ z + params[\"b2\"]\n",
    "    return y"
   ]
  },
  {
   "cell_type": "code",
   "execution_count": 7,
   "id": "67e58de1",
   "metadata": {},
   "outputs": [
    {
     "data": {
      "text/plain": [
       "tensor([-1.2988], grad_fn=<AddBackward0>)"
      ]
     },
     "execution_count": 7,
     "metadata": {},
     "output_type": "execute_result"
    }
   ],
   "source": [
    "# The nn function above works for a single input x, but cannot handle a \"batch\"\n",
    "nn(params_init, x_train[0]) "
   ]
  },
  {
   "cell_type": "code",
   "execution_count": 8,
   "id": "44ad50e8",
   "metadata": {},
   "outputs": [],
   "source": [
    "# We can \"vectorize\" the nn function with linear algebra and broadcasting tricks\n",
    "def batched_nn(params, x):\n",
    "    z = torch.sigmoid(x @ params[\"W1\"].T + params[\"b1\"])\n",
    "    y = z @ params[\"W2\"].T + params[\"b2\"]\n",
    "    return y"
   ]
  },
  {
   "cell_type": "code",
   "execution_count": 9,
   "id": "3936637b",
   "metadata": {},
   "outputs": [
    {
     "data": {
      "text/plain": [
       "torch.Size([100, 1])"
      ]
     },
     "execution_count": 9,
     "metadata": {},
     "output_type": "execute_result"
    }
   ],
   "source": [
    "batched_nn(params_init, x_train).shape"
   ]
  },
  {
   "cell_type": "code",
   "execution_count": 10,
   "id": "578d64f5",
   "metadata": {},
   "outputs": [],
   "source": [
    "# The recently introduced vmap functional transfor simplifies vectorization a lot!\n",
    "batched_nn = torch.func.vmap(nn, in_dims=(None, 0)) # vectorize with respect to the second argument only"
   ]
  },
  {
   "cell_type": "markdown",
   "id": "86290490",
   "metadata": {
    "slideshow": {
     "slide_type": "-"
    }
   },
   "source": [
    "### Visualize the MLP model  at initialization together with the data points"
   ]
  },
  {
   "cell_type": "markdown",
   "id": "260df1f2",
   "metadata": {},
   "source": [
    "### Train the MLP  by minimizing the MSE loss on the training dataset with gradient descent\n",
    "\n",
    "Hint: \n",
    "* You can use ``torch.autograd.grad`` to compute the gradients. The second argument can be a list of variables, you get back a list of derivatives\n",
    "* Alternatively, you can call ``loss.backward``. After the call to backward, each parameter `p` will have a `p.grad` field containing the gradient. Free the .grad field after usage with `p.grad.zero_()`, otherwise, gradients are accumulated over iterations!"
   ]
  },
  {
   "cell_type": "markdown",
   "id": "60a5bfb3",
   "metadata": {},
   "source": [
    "### Visualize the training loss\n"
   ]
  },
  {
   "cell_type": "markdown",
   "id": "4379dd92",
   "metadata": {},
   "source": [
    "### Visualize the trained MLP model  and the data points"
   ]
  },
  {
   "cell_type": "markdown",
   "id": "768f49ad",
   "metadata": {},
   "source": [
    "### Bonus\n",
    "\n",
    "Can you compute the loss derivatives analytically and/or  verify some of them numerically (eg, by finite differences)?"
   ]
  }
 ],
 "metadata": {
  "celltoolbar": "Slideshow",
  "kernelspec": {
   "display_name": "Python 3 (ipykernel)",
   "language": "python",
   "name": "python3"
  },
  "language_info": {
   "codemirror_mode": {
    "name": "ipython",
    "version": 3
   },
   "file_extension": ".py",
   "mimetype": "text/x-python",
   "name": "python",
   "nbconvert_exporter": "python",
   "pygments_lexer": "ipython3",
   "version": "3.12.9"
  }
 },
 "nbformat": 4,
 "nbformat_minor": 5
}
