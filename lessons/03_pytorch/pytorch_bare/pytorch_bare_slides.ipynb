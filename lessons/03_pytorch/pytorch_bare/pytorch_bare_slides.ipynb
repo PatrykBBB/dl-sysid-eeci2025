{
 "cells": [
  {
   "cell_type": "markdown",
   "id": "229bee59",
   "metadata": {
    "slideshow": {
     "slide_type": "slide"
    }
   },
   "source": [
    "# Used libraries "
   ]
  },
  {
   "cell_type": "code",
   "execution_count": 1,
   "id": "25264264",
   "metadata": {
    "slideshow": {
     "slide_type": "-"
    }
   },
   "outputs": [],
   "source": [
    "import torch\n",
    "import matplotlib.pyplot as plt"
   ]
  },
  {
   "cell_type": "code",
   "execution_count": 2,
   "id": "6e92896d",
   "metadata": {
    "slideshow": {
     "slide_type": "-"
    }
   },
   "outputs": [],
   "source": [
    "torch.manual_seed(0);"
   ]
  },
  {
   "cell_type": "markdown",
   "id": "e610be45",
   "metadata": {
    "slideshow": {
     "slide_type": "slide"
    }
   },
   "source": [
    "# PyTorch\n",
    "\n",
    "A Deep Learning framework providing:\n",
    "\n",
    "* Numerical mathematics (linear algebra, common mathematical functions, ...)\n",
    "* Automatic differentiation (gradient, Jacobian, Hessian...)\n",
    "* Deep Learning tools (neural-network layers, optimizers, datasets...)\n",
    "\n"
   ]
  },
  {
   "cell_type": "markdown",
   "id": "aa237abd-9da4-4788-9013-c13c792d3e15",
   "metadata": {
    "slideshow": {
     "slide_type": "slide"
    }
   },
   "source": [
    "# Computer algebra in PyTorch\n",
    "\n",
    "The ``torch.tensor`` object is a multidimensional array"
   ]
  },
  {
   "cell_type": "code",
   "execution_count": 3,
   "id": "6ace57f3",
   "metadata": {},
   "outputs": [
    {
     "data": {
      "text/plain": [
       "tensor([[1., 2.],\n",
       "        [3., 4.]])"
      ]
     },
     "execution_count": 3,
     "metadata": {},
     "output_type": "execute_result"
    }
   ],
   "source": [
    "A = torch.tensor([[1.0, 2.0],\n",
    "                  [3.0, 4.0]])\n",
    "A"
   ]
  },
  {
   "cell_type": "code",
   "execution_count": 4,
   "id": "06f4bd9a",
   "metadata": {},
   "outputs": [
    {
     "data": {
      "text/plain": [
       "(torch.Size([2, 2]), torch.float32)"
      ]
     },
     "execution_count": 4,
     "metadata": {},
     "output_type": "execute_result"
    }
   ],
   "source": [
    "A.shape, A.dtype"
   ]
  },
  {
   "cell_type": "code",
   "execution_count": 5,
   "id": "0923b39b",
   "metadata": {
    "slideshow": {
     "slide_type": "fragment"
    }
   },
   "outputs": [
    {
     "data": {
      "text/plain": [
       "tensor([[1.],\n",
       "        [1.]])"
      ]
     },
     "execution_count": 5,
     "metadata": {},
     "output_type": "execute_result"
    }
   ],
   "source": [
    "x = torch.ones((2, 1)) # torch.zeros, torch.eye, ...\n",
    "x"
   ]
  },
  {
   "cell_type": "code",
   "execution_count": 6,
   "id": "e10e2645",
   "metadata": {},
   "outputs": [
    {
     "data": {
      "text/plain": [
       "tensor([[1., 0.],\n",
       "        [0., 1.]])"
      ]
     },
     "execution_count": 6,
     "metadata": {},
     "output_type": "execute_result"
    }
   ],
   "source": [
    "I = torch.eye(2); I"
   ]
  },
  {
   "cell_type": "code",
   "execution_count": 7,
   "id": "74aea83a-fc73-48cb-968a-ea06065c6747",
   "metadata": {
    "slideshow": {
     "slide_type": "fragment"
    }
   },
   "outputs": [
    {
     "data": {
      "text/plain": [
       "tensor([0.0000, 0.2500, 0.5000, 0.7500, 1.0000])"
      ]
     },
     "execution_count": 7,
     "metadata": {},
     "output_type": "execute_result"
    }
   ],
   "source": [
    "t = torch.linspace(0, 1, 5); t"
   ]
  },
  {
   "cell_type": "markdown",
   "id": "02dc9a9d",
   "metadata": {
    "slideshow": {
     "slide_type": "fragment"
    }
   },
   "source": [
    "Commands like ``eye``, ``ones`` are close to (``numpy`` and ``MATLAB``)."
   ]
  },
  {
   "cell_type": "markdown",
   "id": "9d15a1c3",
   "metadata": {
    "slideshow": {
     "slide_type": "slide"
    }
   },
   "source": [
    "## Operations: basics\n",
    "\n",
    "The ``torch.tensor`` support linear algebra and standard trascendental function support. Let us define:\n",
    "\n",
    "\\begin{equation}\n",
    "A = \\begin{bmatrix}1.0 & 2.0 \\\\\n",
    "                   3.0 & 4.0\n",
    "    \\end{bmatrix}, \\qquad\n",
    "I = \\begin{bmatrix}1.0 & 0.0 \\\\\n",
    "                   0.0 & 1.0\n",
    "    \\end{bmatrix} \n",
    "\\end{equation}"
   ]
  },
  {
   "cell_type": "code",
   "execution_count": 8,
   "id": "a5477320",
   "metadata": {},
   "outputs": [],
   "source": [
    "A = torch.tensor([[1.0, 2.0], [3.0, 4.0]]); I = torch.eye(2)"
   ]
  },
  {
   "cell_type": "code",
   "execution_count": 9,
   "id": "a9662b23",
   "metadata": {},
   "outputs": [
    {
     "data": {
      "text/plain": [
       "tensor([[2., 2.],\n",
       "        [3., 5.]])"
      ]
     },
     "execution_count": 9,
     "metadata": {},
     "output_type": "execute_result"
    }
   ],
   "source": [
    "A + I # element-wise addition (works with +-/*)"
   ]
  },
  {
   "cell_type": "code",
   "execution_count": 10,
   "id": "7f3e7f01",
   "metadata": {
    "slideshow": {
     "slide_type": "fragment"
    }
   },
   "outputs": [
    {
     "data": {
      "text/plain": [
       "tensor([[1., 2.],\n",
       "        [3., 4.]])"
      ]
     },
     "execution_count": 10,
     "metadata": {},
     "output_type": "execute_result"
    }
   ],
   "source": [
    "A @ I # matrix multiplication, A @ I = A."
   ]
  },
  {
   "cell_type": "code",
   "execution_count": 11,
   "id": "460b4772",
   "metadata": {
    "slideshow": {
     "slide_type": "fragment"
    }
   },
   "outputs": [
    {
     "data": {
      "text/plain": [
       "tensor([[1., 0.],\n",
       "        [0., 4.]])"
      ]
     },
     "execution_count": 11,
     "metadata": {},
     "output_type": "execute_result"
    }
   ],
   "source": [
    "A * I # element-wise multiplication"
   ]
  },
  {
   "cell_type": "code",
   "execution_count": 12,
   "id": "435e524f",
   "metadata": {
    "slideshow": {
     "slide_type": "fragment"
    }
   },
   "outputs": [
    {
     "data": {
      "text/plain": [
       "tensor([[ 2.7183,  7.3891],\n",
       "        [20.0855, 54.5982]])"
      ]
     },
     "execution_count": 12,
     "metadata": {},
     "output_type": "execute_result"
    }
   ],
   "source": [
    "torch.exp(A) # element-wise unary (one-argument) ops: exp, sin, cos, log, tan, tanh. Note: torch.matrix_exp is the *matrix* exponential instead!"
   ]
  },
  {
   "cell_type": "markdown",
   "id": "2026c222",
   "metadata": {
    "slideshow": {
     "slide_type": "slide"
    }
   },
   "source": [
    "## Operations: combining tensors\n",
    "\n",
    "\n",
    "Tensor manipulation tools like ``concatenate`` and ``stack`` are also super useful."
   ]
  },
  {
   "cell_type": "code",
   "execution_count": 13,
   "id": "d75b5133",
   "metadata": {},
   "outputs": [
    {
     "data": {
      "text/plain": [
       "tensor([[1., 2.],\n",
       "        [3., 4.]])"
      ]
     },
     "execution_count": 13,
     "metadata": {},
     "output_type": "execute_result"
    }
   ],
   "source": [
    "A"
   ]
  },
  {
   "cell_type": "code",
   "execution_count": 14,
   "id": "ba9a0c2d",
   "metadata": {},
   "outputs": [
    {
     "data": {
      "text/plain": [
       "tensor([[1., 0.],\n",
       "        [0., 1.]])"
      ]
     },
     "execution_count": 14,
     "metadata": {},
     "output_type": "execute_result"
    }
   ],
   "source": [
    "I "
   ]
  },
  {
   "cell_type": "code",
   "execution_count": 15,
   "id": "3a036f1a",
   "metadata": {
    "slideshow": {
     "slide_type": "-"
    }
   },
   "outputs": [
    {
     "data": {
      "text/plain": [
       "tensor([[1., 2.],\n",
       "        [3., 4.],\n",
       "        [1., 0.],\n",
       "        [0., 1.]])"
      ]
     },
     "execution_count": 15,
     "metadata": {},
     "output_type": "execute_result"
    }
   ],
   "source": [
    "torch.concatenate((A, I), axis=0)"
   ]
  },
  {
   "cell_type": "code",
   "execution_count": 16,
   "id": "cfd7eeae",
   "metadata": {
    "slideshow": {
     "slide_type": "fragment"
    }
   },
   "outputs": [
    {
     "data": {
      "text/plain": [
       "tensor([[1., 2., 1., 0.],\n",
       "        [3., 4., 0., 1.]])"
      ]
     },
     "execution_count": 16,
     "metadata": {},
     "output_type": "execute_result"
    }
   ],
   "source": [
    "torch.concatenate((A, I), axis=1)"
   ]
  },
  {
   "cell_type": "markdown",
   "id": "9024d702",
   "metadata": {
    "slideshow": {
     "slide_type": "fragment"
    }
   },
   "source": [
    "Stack instead adds an extra dimension"
   ]
  },
  {
   "cell_type": "code",
   "execution_count": 17,
   "id": "8e30a50d",
   "metadata": {
    "slideshow": {
     "slide_type": "-"
    }
   },
   "outputs": [
    {
     "data": {
      "text/plain": [
       "torch.Size([3, 2, 2])"
      ]
     },
     "execution_count": 17,
     "metadata": {},
     "output_type": "execute_result"
    }
   ],
   "source": [
    "torch.stack((A, I, I), axis=0).shape"
   ]
  },
  {
   "cell_type": "code",
   "execution_count": 18,
   "id": "51f9c075",
   "metadata": {
    "slideshow": {
     "slide_type": "fragment"
    }
   },
   "outputs": [
    {
     "data": {
      "text/plain": [
       "torch.Size([2, 3, 2])"
      ]
     },
     "execution_count": 18,
     "metadata": {},
     "output_type": "execute_result"
    }
   ],
   "source": [
    "torch.stack((A, I, I), axis=1).shape"
   ]
  },
  {
   "cell_type": "markdown",
   "id": "6ed174b7",
   "metadata": {
    "slideshow": {
     "slide_type": "slide"
    }
   },
   "source": [
    "## Operations: broadcasting I \n",
    "\n",
    "Binary operations: two operands. All standard arithmetics!\n",
    "\n",
    "When the two operands have the same shape, they are applied element-wise"
   ]
  },
  {
   "cell_type": "code",
   "execution_count": 19,
   "id": "b7a1727a",
   "metadata": {},
   "outputs": [
    {
     "data": {
      "text/plain": [
       "tensor([[1., 2.],\n",
       "        [3., 4.]])"
      ]
     },
     "execution_count": 19,
     "metadata": {},
     "output_type": "execute_result"
    }
   ],
   "source": [
    "A = torch.tensor([[1.0, 2.0], [3.0, 4.0]]); A"
   ]
  },
  {
   "cell_type": "code",
   "execution_count": 20,
   "id": "717b15a3",
   "metadata": {},
   "outputs": [
    {
     "data": {
      "text/plain": [
       "tensor([[2., 2.],\n",
       "        [3., 5.]])"
      ]
     },
     "execution_count": 20,
     "metadata": {},
     "output_type": "execute_result"
    }
   ],
   "source": [
    "A + torch.eye(2)"
   ]
  },
  {
   "cell_type": "markdown",
   "id": "3f962fd8",
   "metadata": {
    "slideshow": {
     "slide_type": "fragment"
    }
   },
   "source": [
    "Broadcasting extends the behavior to operands with different, yet compatible shape. Simplest case: scalar operand"
   ]
  },
  {
   "cell_type": "code",
   "execution_count": 21,
   "id": "38ba3d0f",
   "metadata": {},
   "outputs": [
    {
     "data": {
      "text/plain": [
       "tensor([[2., 4.],\n",
       "        [6., 8.]])"
      ]
     },
     "execution_count": 21,
     "metadata": {},
     "output_type": "execute_result"
    }
   ],
   "source": [
    "torch.tensor(2.0) * A # multiplication is done element-wise."
   ]
  },
  {
   "cell_type": "markdown",
   "id": "fc68e8c1",
   "metadata": {},
   "source": [
    "Intuitive, and in line with standard algebra (scalar-matrix multiplication)"
   ]
  },
  {
   "cell_type": "markdown",
   "id": "fc75c551",
   "metadata": {
    "slideshow": {
     "slide_type": "slide"
    }
   },
   "source": [
    "## Operations: broadcasting II\n",
    "\n",
    "\n",
    "The standard linear algebra operations are **extended** with broadcasting behavior. Let us define:\n",
    "\n",
    "\\begin{equation}\n",
    "X = \\begin{bmatrix}1.0 & 2.0 \\\\\n",
    "                   3.0 & 4.0 \\\\\n",
    "                   5.0 & 6.0\n",
    "    \\end{bmatrix}, \\qquad\n",
    "b = \\begin{bmatrix}0.5 & 1.0\\end{bmatrix} \n",
    "\\end{equation}"
   ]
  },
  {
   "cell_type": "code",
   "execution_count": 22,
   "id": "f3a4a162",
   "metadata": {},
   "outputs": [
    {
     "data": {
      "text/plain": [
       "tensor([[1.5000, 3.0000],\n",
       "        [3.5000, 5.0000],\n",
       "        [5.5000, 7.0000]])"
      ]
     },
     "execution_count": 22,
     "metadata": {},
     "output_type": "execute_result"
    }
   ],
   "source": [
    "X = torch.tensor([[1.0, 2.0], [3.0, 4.0], [5.0, 6.0]]); b = torch.tensor([0.5, 1.0]); X + b"
   ]
  },
  {
   "cell_type": "markdown",
   "id": "e8ada46a",
   "metadata": {
    "slideshow": {
     "slide_type": "fragment"
    }
   },
   "source": [
    "The 1D tensor (vector) $b$ is added to **all the rows** of the 2D tensor (matrix) A: \n",
    "\n",
    "\\begin{equation}\n",
    "\\begin{bmatrix}\\\n",
    "1.0 & 2.0 \\\\\n",
    "3.0 & 4.0 \\\\\n",
    "5.0 & 6.0\n",
    "\\end{bmatrix} + \n",
    "\\begin{bmatrix}\n",
    "0.5 & 1.0 \\\\\n",
    "0.5 & 1.0 \\\\\n",
    "0.5 & 1.0\n",
    "\\end{bmatrix}\n",
    "=\n",
    "\\begin{bmatrix}\n",
    "1.5 & 3.0 \\\\\n",
    "3.5 & 5.0 \\\\\n",
    "5.5 & 7.0\n",
    "\\end{bmatrix}\n",
    "\\end{equation}\n",
    "\n",
    "This goes beyond standard linear algebra. Roughly speaking, the tensor with fewer dimensions is repeated over the missing dimensions."
   ]
  },
  {
   "cell_type": "markdown",
   "id": "89140a3c",
   "metadata": {
    "slideshow": {
     "slide_type": "fragment"
    }
   },
   "source": [
    "General broadcasting rules in the [PyTorch](https://docs.pytorch.org/docs/stable/notes/broadcasting.html) (or [Numpy](https://numpy.org/doc/stable/user/basics.broadcasting.html)) documentation.\n",
    "\n"
   ]
  },
  {
   "cell_type": "markdown",
   "id": "473c412d",
   "metadata": {
    "slideshow": {
     "slide_type": "slide"
    }
   },
   "source": [
    "## Automatic Differentiation\n",
    "\n",
    "Numerical math alone is not so special. The added value of PyTorch (and JAX, Tensorflow, CasADi, ...) is *automatic differentiation*."
   ]
  },
  {
   "cell_type": "markdown",
   "id": "919beb7e",
   "metadata": {},
   "source": [
    "$$f(x) : \\mathbb{R}^{3} \\rightarrow \\mathbb{R} =  x_1^2 + x_2^2 + x_3^2 $$"
   ]
  },
  {
   "cell_type": "code",
   "execution_count": 23,
   "id": "3e088aca",
   "metadata": {
    "slideshow": {
     "slide_type": "fragment"
    }
   },
   "outputs": [],
   "source": [
    "x = torch.randn(3, requires_grad=True); # inform pytorch that you will need gradients wrt this variable\n",
    "y = torch.sum(x**2)"
   ]
  },
  {
   "cell_type": "markdown",
   "id": "70d10e0a",
   "metadata": {
    "slideshow": {
     "slide_type": "fragment"
    }
   },
   "source": [
    "What's $\\nabla f(x)$? Hard pen-and-paper derivation...\n",
    "$$\\nabla f(x): \\mathbb{R}^{3} \\rightarrow \\mathbb{R}^{3} =\n",
    "\\begin{bmatrix}\n",
    "2x_1 \\\\ 2x_2 \\\\ 2x_3 \n",
    "\\end{bmatrix}\n",
    "$$"
   ]
  },
  {
   "cell_type": "code",
   "execution_count": 24,
   "id": "ab7d02a3",
   "metadata": {
    "slideshow": {
     "slide_type": "-"
    }
   },
   "outputs": [
    {
     "data": {
      "text/plain": [
       "tensor([ 3.0820, -0.5869, -4.3576], grad_fn=<MulBackward0>)"
      ]
     },
     "execution_count": 24,
     "metadata": {},
     "output_type": "execute_result"
    }
   ],
   "source": [
    "dx_manual = 2 * x; dx_manual # hard pen-and-paper calculations required!"
   ]
  },
  {
   "cell_type": "markdown",
   "id": "fd113c2f",
   "metadata": {
    "slideshow": {
     "slide_type": "fragment"
    }
   },
   "source": [
    "PyTorch will save you the pain!"
   ]
  },
  {
   "cell_type": "code",
   "execution_count": 25,
   "id": "e3ef56a0",
   "metadata": {
    "slideshow": {
     "slide_type": "-"
    }
   },
   "outputs": [
    {
     "data": {
      "text/plain": [
       "tensor([ 3.0820, -0.5869, -4.3576])"
      ]
     },
     "execution_count": 25,
     "metadata": {},
     "output_type": "execute_result"
    }
   ],
   "source": [
    "dx = torch.autograd.grad(y, x)[0]; dx"
   ]
  },
  {
   "cell_type": "markdown",
   "id": "8f7634e3",
   "metadata": {
    "slideshow": {
     "slide_type": "slide"
    }
   },
   "source": [
    "## Learning a Linear Model\n",
    "\n",
    "Let us consider a linear model $f: \\mathbb{R} \\rightarrow \\mathbb{R}$\n",
    "$$y = a x + b = \\overbrace{[x\\; 1]}^{\\phi^\\top} \\overbrace{\\begin{bmatrix} a \\\\ b\\end{bmatrix}}^\\theta$$\n",
    "True parameters: $\\theta_o = \\begin{bmatrix} a & b\\end{bmatrix}^\\top = \\begin{bmatrix} 1.0 & 2.0\\end{bmatrix}^\\top$"
   ]
  },
  {
   "cell_type": "code",
   "execution_count": 26,
   "id": "381e5117",
   "metadata": {},
   "outputs": [],
   "source": [
    "theta_true = torch.tensor([[1.0], [2.0]]) # true, unknown value"
   ]
  },
  {
   "cell_type": "code",
   "execution_count": 27,
   "id": "18a3fb27",
   "metadata": {
    "slideshow": {
     "slide_type": "fragment"
    }
   },
   "outputs": [],
   "source": [
    "def linear_model(theta, x):\n",
    "    y = theta[0] * x + theta[1]\n",
    "    return y"
   ]
  },
  {
   "cell_type": "code",
   "execution_count": 28,
   "id": "85798c66",
   "metadata": {},
   "outputs": [
    {
     "data": {
      "text/plain": [
       "tensor([3.])"
      ]
     },
     "execution_count": 28,
     "metadata": {},
     "output_type": "execute_result"
    }
   ],
   "source": [
    "linear_model(theta_true, torch.tensor([1.0]))"
   ]
  },
  {
   "cell_type": "code",
   "execution_count": 29,
   "id": "3032ff79",
   "metadata": {
    "slideshow": {
     "slide_type": "fragment"
    }
   },
   "outputs": [
    {
     "data": {
      "text/plain": [
       "tensor([[3.],\n",
       "        [3.]])"
      ]
     },
     "execution_count": 29,
     "metadata": {},
     "output_type": "execute_result"
    }
   ],
   "source": [
    " linear_model(theta_true, torch.tensor([[1.0],\n",
    "                                        [1.0]])) # y = 1 * x + 2"
   ]
  },
  {
   "cell_type": "markdown",
   "id": "2e80b06d",
   "metadata": {
    "slideshow": {
     "slide_type": "fragment"
    }
   },
   "source": [
    "The implementation of ``linear_model`` accepts either a single data point $x \\in \\mathbb{R}$ or a dataset/minibatch $X \\in \\mathbb{R}^{N \\times 1}$.\n",
    "\n"
   ]
  },
  {
   "cell_type": "markdown",
   "id": "3be1ee31",
   "metadata": {
    "slideshow": {
     "slide_type": "fragment"
    }
   },
   "source": [
    "The *batched* case actually exploits the broadcasting behavior of PyTorch!\n",
    "\n",
    "$$ y = a \\begin{bmatrix}x_1 \\\\ x_2 \\end{bmatrix} + b = \n",
    "\\begin{bmatrix}a x_1 \\\\ a x_2 \\end{bmatrix} + b = \\begin{bmatrix}a x_1 + b\\\\ a x_2 + b\\end{bmatrix}$$"
   ]
  },
  {
   "cell_type": "markdown",
   "id": "2719af1d",
   "metadata": {
    "slideshow": {
     "slide_type": "slide"
    }
   },
   "source": [
    "Let us define some fake data:"
   ]
  },
  {
   "cell_type": "code",
   "execution_count": 30,
   "id": "2e0f6721",
   "metadata": {
    "slideshow": {
     "slide_type": "-"
    }
   },
   "outputs": [
    {
     "data": {
      "image/png": "[encoded data removed]",
      "text/plain": [
       "<Figure size 640x480 with 1 Axes>"
      ]
     },
     "metadata": {},
     "output_type": "display_data"
    }
   ],
   "source": [
    "# Let us define some fake data\n",
    "N = 100\n",
    "x = torch.linspace(-2, 2, 100).reshape(-1, 1)\n",
    "y = linear_model(theta_true, x) + torch.randn(N, 1) * 0.1\n",
    "plt.plot(x, y, \"*\");"
   ]
  },
  {
   "cell_type": "markdown",
   "id": "c98e4c5e",
   "metadata": {
    "slideshow": {
     "slide_type": "slide"
    }
   },
   "source": [
    "\n",
    "# Least squares"
   ]
  },
  {
   "cell_type": "markdown",
   "id": "5d2fa2bb",
   "metadata": {},
   "source": [
    "Given the $N$ observations $y = [y_1 \\dots y_N], x = [x_1 \\dots x_N]$, the least square estimate of $\\theta_o$ is defined by:\n",
    "\n",
    "$$\\hat \\theta = \\arg \\min_\\theta  \\overbrace{\\frac{1}{N} \\sum_{i=1}^N (y_i - \\hat y_i)^2}^{=\\mathcal{L}(\\theta)}, \\qquad \\hat y_i = a x_i + b$$"
   ]
  },
  {
   "cell_type": "markdown",
   "id": "af123017",
   "metadata": {
    "slideshow": {
     "slide_type": "fragment"
    }
   },
   "source": [
    "It has the closed-form solution:\n",
    "$$ y = \\overbrace{\\begin{bmatrix}x_1 & 1\\\\ x_2 & 1 \\\\ \\dots\\\\ x_N & 1 \\end{bmatrix}}^{=\\Phi} \\theta, \\qquad \n",
    "\\mathcal{L} = (y-\\Phi \\theta)^\\top (y-\\Phi \\theta), \\qquad\n",
    "\\hat \\theta = (\\Phi^T\\Phi)^{-1}\\Phi^T y $$"
   ]
  },
  {
   "cell_type": "code",
   "execution_count": 31,
   "id": "c401d761",
   "metadata": {
    "slideshow": {
     "slide_type": "fragment"
    }
   },
   "outputs": [
    {
     "data": {
      "text/plain": [
       "tensor([[0.9903],\n",
       "        [1.9998]])"
      ]
     },
     "execution_count": 31,
     "metadata": {},
     "output_type": "execute_result"
    }
   ],
   "source": [
    "PHI = torch.hstack((x, torch.ones(N, 1)))\n",
    "theta_hat = torch.linalg.lstsq(PHI, y, rcond=None).solution; theta_hat"
   ]
  },
  {
   "cell_type": "markdown",
   "id": "1a737176",
   "metadata": {},
   "source": [
    "Closed-form solution known for few special problems (eg, linear in the parameters). For all the others, we need numerical optimization! "
   ]
  },
  {
   "cell_type": "markdown",
   "id": "de14e795",
   "metadata": {
    "slideshow": {
     "slide_type": "slide"
    }
   },
   "source": [
    "# Least squares with gradient descent"
   ]
  },
  {
   "cell_type": "markdown",
   "id": "3105bfaa",
   "metadata": {},
   "source": [
    "\n",
    "The simplest algorithm: plain **gradient** descent. For $i=1,2,\\dots$:\n",
    "$$ \\theta_{i+1} = \\theta_i - \\lambda \\nabla_\\theta \\mathcal{L}(\\theta)$$\n"
   ]
  },
  {
   "cell_type": "markdown",
   "id": "e91e35e7",
   "metadata": {},
   "source": [
    "Even this trivial algorithm needs (efficient) computation of gradients of a loss wrt parameters. For linear least squares the gradient is:\n",
    "\n",
    "\\begin{equation}\n",
    "y = \\Phi \\theta \\Rightarrow  \\nabla \\mathcal{L}(\\theta) =  \\Phi^\\top(y - \\Phi \\theta)\n",
    "\\end{equation}"
   ]
  },
  {
   "cell_type": "code",
   "execution_count": 32,
   "id": "6c125a97",
   "metadata": {
    "slideshow": {
     "slide_type": "fragment"
    }
   },
   "outputs": [
    {
     "data": {
      "text/plain": [
       "tensor([[0.5684],\n",
       "        [1.8929]])"
      ]
     },
     "execution_count": 32,
     "metadata": {},
     "output_type": "execute_result"
    }
   ],
   "source": [
    "theta_opt = torch.randn((2, 1))\n",
    "theta_opt # random initialization"
   ]
  },
  {
   "cell_type": "code",
   "execution_count": 33,
   "id": "ef0dc38b",
   "metadata": {
    "slideshow": {
     "slide_type": "fragment"
    }
   },
   "outputs": [],
   "source": [
    "lr = 0.1\n",
    "LOSS = []\n",
    "for _ in range(100):\n",
    "    y_hat = linear_model(theta_opt, x)\n",
    "    loss = torch.mean((y - y_hat)**2)\n",
    "    grad = 2 *  PHI.T @ (y_hat - y) / N\n",
    "    theta_opt -= lr * grad\n",
    "    LOSS.append(loss.item())"
   ]
  },
  {
   "cell_type": "code",
   "execution_count": 34,
   "id": "9b71966d",
   "metadata": {},
   "outputs": [
    {
     "data": {
      "text/plain": [
       "tensor([[0.9903],\n",
       "        [1.9998]])"
      ]
     },
     "execution_count": 34,
     "metadata": {},
     "output_type": "execute_result"
    }
   ],
   "source": [
    "theta_opt"
   ]
  },
  {
   "cell_type": "code",
   "execution_count": 35,
   "id": "fe0acae5",
   "metadata": {
    "slideshow": {
     "slide_type": "subslide"
    }
   },
   "outputs": [
    {
     "data": {
      "image/png": "[encoded data removed]",
      "text/plain": [
       "<Figure size 640x480 with 1 Axes>"
      ]
     },
     "metadata": {},
     "output_type": "display_data"
    }
   ],
   "source": [
    "plt.plot(LOSS);"
   ]
  },
  {
   "cell_type": "markdown",
   "id": "a924261c",
   "metadata": {
    "slideshow": {
     "slide_type": "slide"
    }
   },
   "source": [
    "## Backpropagation\n",
    "\n",
    "PyTorch can compute these nasty derivatives for you!"
   ]
  },
  {
   "cell_type": "code",
   "execution_count": 36,
   "id": "ee083bad",
   "metadata": {
    "slideshow": {
     "slide_type": "-"
    }
   },
   "outputs": [],
   "source": [
    "theta_opt = torch.randn((2, 1), requires_grad=True) # torch need to know that we will ask the gradient of this\n",
    "\n",
    "y_hat = linear_model(theta_opt, x)\n",
    "loss = torch.mean((y - y_hat)**2)"
   ]
  },
  {
   "cell_type": "code",
   "execution_count": 37,
   "id": "e2e3d738",
   "metadata": {},
   "outputs": [
    {
     "data": {
      "text/plain": [
       "tensor([[ 5.7694],\n",
       "        [-4.9164]])"
      ]
     },
     "execution_count": 37,
     "metadata": {},
     "output_type": "execute_result"
    }
   ],
   "source": [
    "grad = torch.autograd.grad(loss, theta_opt)[0] # or loss.backward(), see then gradients are stored in loss.grad. See later...\n",
    "grad"
   ]
  },
  {
   "cell_type": "code",
   "execution_count": 38,
   "id": "389ecd78",
   "metadata": {
    "slideshow": {
     "slide_type": "fragment"
    }
   },
   "outputs": [
    {
     "data": {
      "text/plain": [
       "tensor([[-4.7684e-07],\n",
       "        [ 4.7684e-07]], grad_fn=<SubBackward0>)"
      ]
     },
     "execution_count": 38,
     "metadata": {},
     "output_type": "execute_result"
    }
   ],
   "source": [
    "manual_grad = 2 * PHI.T @ (y_hat - y) / N\n",
    "grad - manual_grad # small numerical difference"
   ]
  },
  {
   "cell_type": "markdown",
   "id": "6fbb0a0e",
   "metadata": {
    "slideshow": {
     "slide_type": "fragment"
    }
   },
   "source": [
    "Training by gradient descent is just a for loop!"
   ]
  },
  {
   "cell_type": "code",
   "execution_count": 39,
   "id": "1422316b",
   "metadata": {},
   "outputs": [
    {
     "data": {
      "text/plain": [
       "tensor([[0.9903],\n",
       "        [1.9998]], requires_grad=True)"
      ]
     },
     "execution_count": 39,
     "metadata": {},
     "output_type": "execute_result"
    }
   ],
   "source": [
    "LOSS = []\n",
    "for _ in range(100):\n",
    "    y_hat = linear_model(theta_opt, x)\n",
    "    loss = torch.mean((y - y_hat)**2)\n",
    "    grad = torch.autograd.grad(loss, theta_opt)[0]\n",
    "    theta_opt.data -= lr * grad\n",
    "    LOSS.append(loss.item())\n",
    "theta_opt # true value is [1, 2]"
   ]
  },
  {
   "cell_type": "markdown",
   "id": "c1e6a302",
   "metadata": {
    "slideshow": {
     "slide_type": "fragment"
    }
   },
   "source": [
    "Training neural networks with (reverse-mode) automatic differentiation is also called back-propagation."
   ]
  },
  {
   "cell_type": "markdown",
   "id": "ac836062",
   "metadata": {
    "slideshow": {
     "slide_type": "slide"
    }
   },
   "source": [
    "## The computational graph"
   ]
  },
  {
   "cell_type": "code",
   "execution_count": 40,
   "id": "9df6cc94",
   "metadata": {},
   "outputs": [],
   "source": [
    "# pip install torchviz\n",
    "import torchviz"
   ]
  },
  {
   "cell_type": "code",
   "execution_count": 41,
   "id": "695eb3f7",
   "metadata": {
    "scrolled": false,
    "slideshow": {
     "slide_type": "-"
    }
   },
   "outputs": [
    {
     "data": {
      "image/svg+xml": [
       "<?xml version=\"1.0\" encoding=\"UTF-8\" standalone=\"no\"?>\n",
       "<!DOCTYPE svg PUBLIC \"-//W3C//DTD SVG 1.1//EN\"\n",
       " \"http://www.w3.org/Graphics/SVG/1.1/DTD/svg11.dtd\">\n",
       "<!-- Generated by graphviz version 12.2.1 (20241206.2353)\n",
       " -->\n",
       "<!-- Pages: 1 -->\n",
       "<svg width=\"220pt\" height=\"507pt\"\n",
       " viewBox=\"0.00 0.00 220.00 506.75\" xmlns=\"http://www.w3.org/2000/svg\" xmlns:xlink=\"http://www.w3.org/1999/xlink\">\n",
       "<g id=\"graph0\" class=\"graph\" transform=\"scale(1 1) rotate(0) translate(4 502.75)\">\n",
       "<polygon fill=\"white\" stroke=\"none\" points=\"-4,4 -4,-502.75 216,-502.75 216,4 -4,4\"/>\n",
       "<!-- 5566562240 -->\n",
       "<g id=\"node1\" class=\"node\">\n",
       "<title>5566562240</title>\n",
       "<polygon fill=\"#caff70\" stroke=\"black\" points=\"128,-32.75 74,-32.75 74,0 128,0 128,-32.75\"/>\n",
       "<text text-anchor=\"middle\" x=\"101\" y=\"-7.25\" font-family=\"monospace\" font-size=\"10.00\"> ()</text>\n",
       "</g>\n",
       "<!-- 5564475440 -->\n",
       "<g id=\"node2\" class=\"node\">\n",
       "<title>5564475440</title>\n",
       "<polygon fill=\"lightgrey\" stroke=\"black\" points=\"148,-89.5 54,-89.5 54,-68.75 148,-68.75 148,-89.5\"/>\n",
       "<text text-anchor=\"middle\" x=\"101\" y=\"-76\" font-family=\"monospace\" font-size=\"10.00\">MeanBackward0</text>\n",
       "</g>\n",
       "<!-- 5564475440&#45;&gt;5566562240 -->\n",
       "<g id=\"edge10\" class=\"edge\">\n",
       "<title>5564475440&#45;&gt;5566562240</title>\n",
       "<path fill=\"none\" stroke=\"black\" d=\"M101,-68.36C101,-61.89 101,-53.05 101,-44.55\"/>\n",
       "<polygon fill=\"black\" stroke=\"black\" points=\"104.5,-44.55 101,-34.55 97.5,-44.55 104.5,-44.55\"/>\n",
       "</g>\n",
       "<!-- 5543186576 -->\n",
       "<g id=\"node3\" class=\"node\">\n",
       "<title>5543186576</title>\n",
       "<polygon fill=\"lightgrey\" stroke=\"black\" points=\"145,-146.25 57,-146.25 57,-125.5 145,-125.5 145,-146.25\"/>\n",
       "<text text-anchor=\"middle\" x=\"101\" y=\"-132.75\" font-family=\"monospace\" font-size=\"10.00\">PowBackward0</text>\n",
       "</g>\n",
       "<!-- 5543186576&#45;&gt;5564475440 -->\n",
       "<g id=\"edge1\" class=\"edge\">\n",
       "<title>5543186576&#45;&gt;5564475440</title>\n",
       "<path fill=\"none\" stroke=\"black\" d=\"M101,-125.09C101,-118.47 101,-109.47 101,-101.27\"/>\n",
       "<polygon fill=\"black\" stroke=\"black\" points=\"104.5,-101.34 101,-91.34 97.5,-101.34 104.5,-101.34\"/>\n",
       "</g>\n",
       "<!-- 5566623040 -->\n",
       "<g id=\"node4\" class=\"node\">\n",
       "<title>5566623040</title>\n",
       "<polygon fill=\"lightgrey\" stroke=\"black\" points=\"145,-203 57,-203 57,-182.25 145,-182.25 145,-203\"/>\n",
       "<text text-anchor=\"middle\" x=\"101\" y=\"-189.5\" font-family=\"monospace\" font-size=\"10.00\">SubBackward0</text>\n",
       "</g>\n",
       "<!-- 5566623040&#45;&gt;5543186576 -->\n",
       "<g id=\"edge2\" class=\"edge\">\n",
       "<title>5566623040&#45;&gt;5543186576</title>\n",
       "<path fill=\"none\" stroke=\"black\" d=\"M101,-181.84C101,-175.22 101,-166.22 101,-158.02\"/>\n",
       "<polygon fill=\"black\" stroke=\"black\" points=\"104.5,-158.09 101,-148.09 97.5,-158.09 104.5,-158.09\"/>\n",
       "</g>\n",
       "<!-- 5543190512 -->\n",
       "<g id=\"node5\" class=\"node\">\n",
       "<title>5543190512</title>\n",
       "<polygon fill=\"lightgrey\" stroke=\"black\" points=\"145,-259.75 57,-259.75 57,-239 145,-239 145,-259.75\"/>\n",
       "<text text-anchor=\"middle\" x=\"101\" y=\"-246.25\" font-family=\"monospace\" font-size=\"10.00\">AddBackward0</text>\n",
       "</g>\n",
       "<!-- 5543190512&#45;&gt;5566623040 -->\n",
       "<g id=\"edge3\" class=\"edge\">\n",
       "<title>5543190512&#45;&gt;5566623040</title>\n",
       "<path fill=\"none\" stroke=\"black\" d=\"M101,-238.59C101,-231.97 101,-222.97 101,-214.77\"/>\n",
       "<polygon fill=\"black\" stroke=\"black\" points=\"104.5,-214.84 101,-204.84 97.5,-214.84 104.5,-214.84\"/>\n",
       "</g>\n",
       "<!-- 5566623088 -->\n",
       "<g id=\"node6\" class=\"node\">\n",
       "<title>5566623088</title>\n",
       "<polygon fill=\"lightgrey\" stroke=\"black\" points=\"88,-316.5 0,-316.5 0,-295.75 88,-295.75 88,-316.5\"/>\n",
       "<text text-anchor=\"middle\" x=\"44\" y=\"-303\" font-family=\"monospace\" font-size=\"10.00\">MulBackward0</text>\n",
       "</g>\n",
       "<!-- 5566623088&#45;&gt;5543190512 -->\n",
       "<g id=\"edge4\" class=\"edge\">\n",
       "<title>5566623088&#45;&gt;5543190512</title>\n",
       "<path fill=\"none\" stroke=\"black\" d=\"M54.19,-295.34C62.13,-287.71 73.37,-276.92 82.84,-267.82\"/>\n",
       "<polygon fill=\"black\" stroke=\"black\" points=\"85.02,-270.58 89.81,-261.13 80.17,-265.53 85.02,-270.58\"/>\n",
       "</g>\n",
       "<!-- 5566622800 -->\n",
       "<g id=\"node7\" class=\"node\">\n",
       "<title>5566622800</title>\n",
       "<polygon fill=\"lightgrey\" stroke=\"black\" points=\"114,-373.25 8,-373.25 8,-352.5 114,-352.5 114,-373.25\"/>\n",
       "<text text-anchor=\"middle\" x=\"61\" y=\"-359.75\" font-family=\"monospace\" font-size=\"10.00\">SelectBackward0</text>\n",
       "</g>\n",
       "<!-- 5566622800&#45;&gt;5566623088 -->\n",
       "<g id=\"edge5\" class=\"edge\">\n",
       "<title>5566622800&#45;&gt;5566623088</title>\n",
       "<path fill=\"none\" stroke=\"black\" d=\"M57.96,-352.09C55.86,-345.31 52.98,-336.05 50.39,-327.69\"/>\n",
       "<polygon fill=\"black\" stroke=\"black\" points=\"53.77,-326.79 47.46,-318.27 47.08,-328.86 53.77,-326.79\"/>\n",
       "</g>\n",
       "<!-- 5566623280 -->\n",
       "<g id=\"node8\" class=\"node\">\n",
       "<title>5566623280</title>\n",
       "<polygon fill=\"lightgrey\" stroke=\"black\" points=\"151,-430 51,-430 51,-409.25 151,-409.25 151,-430\"/>\n",
       "<text text-anchor=\"middle\" x=\"101\" y=\"-416.5\" font-family=\"monospace\" font-size=\"10.00\">AccumulateGrad</text>\n",
       "</g>\n",
       "<!-- 5566623280&#45;&gt;5566622800 -->\n",
       "<g id=\"edge6\" class=\"edge\">\n",
       "<title>5566623280&#45;&gt;5566622800</title>\n",
       "<path fill=\"none\" stroke=\"black\" d=\"M93.85,-408.84C88.56,-401.6 81.19,-391.51 74.77,-382.72\"/>\n",
       "<polygon fill=\"black\" stroke=\"black\" points=\"77.71,-380.81 68.98,-374.8 72.06,-384.94 77.71,-380.81\"/>\n",
       "</g>\n",
       "<!-- 5566623184 -->\n",
       "<g id=\"node10\" class=\"node\">\n",
       "<title>5566623184</title>\n",
       "<polygon fill=\"lightgrey\" stroke=\"black\" points=\"212,-316.5 106,-316.5 106,-295.75 212,-295.75 212,-316.5\"/>\n",
       "<text text-anchor=\"middle\" x=\"159\" y=\"-303\" font-family=\"monospace\" font-size=\"10.00\">SelectBackward0</text>\n",
       "</g>\n",
       "<!-- 5566623280&#45;&gt;5566623184 -->\n",
       "<g id=\"edge9\" class=\"edge\">\n",
       "<title>5566623280&#45;&gt;5566623184</title>\n",
       "<path fill=\"none\" stroke=\"black\" d=\"M105.95,-409.12C115.36,-391.02 136.03,-351.28 148.61,-327.1\"/>\n",
       "<polygon fill=\"black\" stroke=\"black\" points=\"151.69,-328.75 153.2,-318.27 145.48,-325.52 151.69,-328.75\"/>\n",
       "</g>\n",
       "<!-- 5564576816 -->\n",
       "<g id=\"node9\" class=\"node\">\n",
       "<title>5564576816</title>\n",
       "<polygon fill=\"lightblue\" stroke=\"black\" points=\"130,-498.75 72,-498.75 72,-466 130,-466 130,-498.75\"/>\n",
       "<text text-anchor=\"middle\" x=\"101\" y=\"-473.25\" font-family=\"monospace\" font-size=\"10.00\"> (2, 1)</text>\n",
       "</g>\n",
       "<!-- 5564576816&#45;&gt;5566623280 -->\n",
       "<g id=\"edge7\" class=\"edge\">\n",
       "<title>5564576816&#45;&gt;5566623280</title>\n",
       "<path fill=\"none\" stroke=\"black\" d=\"M101,-465.73C101,-458.35 101,-449.43 101,-441.49\"/>\n",
       "<polygon fill=\"black\" stroke=\"black\" points=\"104.5,-441.66 101,-431.66 97.5,-441.66 104.5,-441.66\"/>\n",
       "</g>\n",
       "<!-- 5566623184&#45;&gt;5543190512 -->\n",
       "<g id=\"edge8\" class=\"edge\">\n",
       "<title>5566623184&#45;&gt;5543190512</title>\n",
       "<path fill=\"none\" stroke=\"black\" d=\"M148.63,-295.34C140.55,-287.71 129.12,-276.92 119.48,-267.82\"/>\n",
       "<polygon fill=\"black\" stroke=\"black\" points=\"122.05,-265.44 112.38,-261.12 117.25,-270.53 122.05,-265.44\"/>\n",
       "</g>\n",
       "</g>\n",
       "</svg>\n"
      ],
      "text/plain": [
       "<graphviz.graphs.Digraph at 0x14bcbec00>"
      ]
     },
     "execution_count": 41,
     "metadata": {},
     "output_type": "execute_result"
    }
   ],
   "source": [
    "y_hat = linear_model(theta_opt, x)\n",
    "loss = torch.mean((y - y_hat)**2)\n",
    "torchviz.make_dot(loss)"
   ]
  },
  {
   "cell_type": "markdown",
   "id": "38ab157d",
   "metadata": {},
   "source": [
    "PyTorch keeps track of the operations and applies reverse-mode AD to compute the derivatives"
   ]
  },
  {
   "cell_type": "code",
   "execution_count": 42,
   "id": "09b25ca3",
   "metadata": {},
   "outputs": [
    {
     "data": {
      "text/plain": [
       "(tensor([[ 2.5472e-07],\n",
       "         [-5.7789e-07]]),)"
      ]
     },
     "execution_count": 42,
     "metadata": {},
     "output_type": "execute_result"
    }
   ],
   "source": [
    "torch.autograd.grad(loss, (theta_opt))"
   ]
  }
 ],
 "metadata": {
  "celltoolbar": "Slideshow",
  "kernelspec": {
   "display_name": "Python 3 (ipykernel)",
   "language": "python",
   "name": "python3"
  },
  "language_info": {
   "codemirror_mode": {
    "name": "ipython",
    "version": 3
   },
   "file_extension": ".py",
   "mimetype": "text/x-python",
   "name": "python",
   "nbconvert_exporter": "python",
   "pygments_lexer": "ipython3",
   "version": "3.12.9"
  }
 },
 "nbformat": 4,
 "nbformat_minor": 5
}
